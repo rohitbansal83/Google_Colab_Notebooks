{
  "nbformat": 4,
  "nbformat_minor": 0,
  "metadata": {
    "colab": {
      "name": "Hw01_P02.ipynb",
      "provenance": [],
      "collapsed_sections": [],
      "toc_visible": true
    },
    "kernelspec": {
      "name": "python3",
      "display_name": "Python 3"
    }
  },
  "cells": [
    {
      "metadata": {
        "id": "lBB8rmtEu-5B"
      },
      "cell_type": "markdown",
      "source": [
        "# Part 2A: MNIST using naive Bayes"
      ]
    },
    {
      "metadata": {
        "id": "zcwBaXk24X4J"
      },
      "cell_type": "markdown",
      "source": [
        "## Load MNIST dataset"
      ]
    },
    {
      "metadata": {
        "id": "5VZ-8aEYv49n"
      },
      "cell_type": "markdown",
      "source": [
        "### Download dataset files"
      ]
    },
    {
      "metadata": {
        "id": "5QPJ_0whvVM4",
        "outputId": "2d14be02-59c4-4f4d-abff-579c69938255",
        "colab": {
          "base_uri": "https://localhost:8080/",
          "height": 102
        }
      },
      "cell_type": "code",
      "source": [
        "import os,urllib.request\n",
        "datapath = '../Data/MNISTData/'\n",
        "if not os.path.exists(datapath):\n",
        "    os.makedirs(datapath)\n",
        "\n",
        "urls = ['http://yann.lecun.com/exdb/mnist/train-images-idx3-ubyte.gz',\n",
        "       'http://yann.lecun.com/exdb/mnist/train-labels-idx1-ubyte.gz',\n",
        "       'http://yann.lecun.com/exdb/mnist/t10k-images-idx3-ubyte.gz',\n",
        "       'http://yann.lecun.com/exdb/mnist/t10k-labels-idx1-ubyte.gz']\n",
        "\n",
        "for url in urls:\n",
        "    filename = url.split('/')[-1]\n",
        "    if os.path.exists(datapath+filename):\n",
        "        print(filename, ' already exists')\n",
        "    else:\n",
        "        print('Downloading ',filename)\n",
        "        urllib.request.urlretrieve (url, datapath+filename)\n",
        "     \n",
        "print('All files are downloaded for MNIST dataset')\n"
      ],
      "execution_count": null,
      "outputs": [
        {
          "output_type": "stream",
          "text": [
            "Downloading  train-images-idx3-ubyte.gz\n",
            "Downloading  train-labels-idx1-ubyte.gz\n",
            "Downloading  t10k-images-idx3-ubyte.gz\n",
            "Downloading  t10k-labels-idx1-ubyte.gz\n",
            "All files are downloaded for MNIST dataset\n"
          ],
          "name": "stdout"
        }
      ]
    },
    {
      "metadata": {
        "id": "VK5bYrpVwA8S"
      },
      "cell_type": "markdown",
      "source": [
        "### Extract files"
      ]
    },
    {
      "metadata": {
        "id": "qKMVvhdcwF2F",
        "outputId": "71c6d7a4-e5cd-4ecd-81ce-5bfb58cf180e",
        "colab": {
          "base_uri": "https://localhost:8080/",
          "height": 187
        }
      },
      "cell_type": "code",
      "source": [
        "import os,gzip,shutil\n",
        "\n",
        "datapath = '../Data/MNISTData/'  \n",
        "files = os.listdir(datapath)\n",
        "for file in files:\n",
        "    if file.endswith('gz'):\n",
        "        print('Extracting ',file)\n",
        "        with gzip.open(datapath+file, 'rb') as f_in:\n",
        "            with open(datapath+file.split('.')[0], 'wb') as f_out:\n",
        "                shutil.copyfileobj(f_in, f_out)\n",
        "print('Extraction Complete')\n",
        "\n",
        "for file in files:\n",
        "    print('Removing ',file)\n",
        "    os.remove(datapath+file)\n",
        "print ('All archives removed')"
      ],
      "execution_count": null,
      "outputs": [
        {
          "output_type": "stream",
          "text": [
            "Extracting  train-images-idx3-ubyte.gz\n",
            "Extracting  train-labels-idx1-ubyte.gz\n",
            "Extracting  t10k-labels-idx1-ubyte.gz\n",
            "Extracting  t10k-images-idx3-ubyte.gz\n",
            "Extraction Complete\n",
            "Removing  train-images-idx3-ubyte.gz\n",
            "Removing  train-labels-idx1-ubyte.gz\n",
            "Removing  t10k-labels-idx1-ubyte.gz\n",
            "Removing  t10k-images-idx3-ubyte.gz\n",
            "All archives removed\n"
          ],
          "name": "stdout"
        }
      ]
    },
    {
      "metadata": {
        "id": "NMWI33bCwmwR"
      },
      "cell_type": "markdown",
      "source": [
        "### Load files data into a dictionary"
      ]
    },
    {
      "metadata": {
        "id": "4Gb8op1pwrzG",
        "outputId": "7278854e-cfd3-441b-b979-761e2bd7fe4c",
        "colab": {
          "base_uri": "https://localhost:8080/",
          "height": 102
        }
      },
      "cell_type": "code",
      "source": [
        "import os,codecs,numpy\n",
        "\n",
        "datapath = '../Data/MNISTData/'\n",
        "files = os.listdir(datapath)\n",
        "\n",
        "def get_int(b):\n",
        "  return int(codecs.encode(b, 'hex'), 16)\n",
        "\n",
        "data_dict = {}\n",
        "for file in files:\n",
        "    if file.endswith('ubyte'):\n",
        "        print('Reading ',file)\n",
        "        with open (datapath+file,'rb') as f:\n",
        "            data = f.read()\n",
        "            type = get_int(data[:4])\n",
        "            length = get_int(data[4:8])\n",
        "            if (type == 2051):\n",
        "                category = 'images'\n",
        "                num_rows = get_int(data[8:12])\n",
        "                num_cols = get_int(data[12:16])\n",
        "                parsed = numpy.frombuffer(data,dtype = numpy.uint8, offset = 16)\n",
        "                parsed = parsed.reshape(length,num_rows,num_cols)\n",
        "            elif(type == 2049):\n",
        "                category = 'labels'\n",
        "                parsed = numpy.frombuffer(data, dtype=numpy.uint8, offset=8)\n",
        "                parsed = parsed.reshape(length)\n",
        "            if (length==10000):\n",
        "                set = 'test'\n",
        "            elif (length==60000):\n",
        "                set = 'train'\n",
        "            data_dict[set+'_'+category] = parsed\n",
        "\n",
        "print(data_dict.keys())"
      ],
      "execution_count": null,
      "outputs": [
        {
          "output_type": "stream",
          "text": [
            "Reading  train-images-idx3-ubyte\n",
            "Reading  t10k-images-idx3-ubyte\n",
            "Reading  train-labels-idx1-ubyte\n",
            "Reading  t10k-labels-idx1-ubyte\n",
            "dict_keys(['train_images', 'test_images', 'train_labels', 'test_labels'])\n"
          ],
          "name": "stdout"
        }
      ]
    },
    {
      "metadata": {
        "id": "Afm8CH5ExZxo"
      },
      "cell_type": "markdown",
      "source": [
        "## Classify train data for untouched and stretched images"
      ]
    },
    {
      "metadata": {
        "id": "0KYdZXunxfqJ",
        "outputId": "34f2248b-5fc8-48c2-c7e6-c8bda79512fb",
        "colab": {
          "base_uri": "https://localhost:8080/",
          "height": 34
        }
      },
      "cell_type": "code",
      "source": [
        "train_images = data_dict['train_images']\n",
        "train_labels = data_dict['train_labels']\n",
        "\n",
        "STRETCHED_TRAIN_IMAGES = []\n",
        "TRAIN_IMAGES = []\n",
        "\n",
        "train0 = []\n",
        "train1 = []\n",
        "train2 = []\n",
        "train3 = []\n",
        "train4 = []\n",
        "train5 = []\n",
        "train6 = []\n",
        "train7 = []\n",
        "train8 = []\n",
        "train9 = []\n",
        "\n",
        "train0_stretched = []\n",
        "train1_stretched = []\n",
        "train2_stretched = []\n",
        "train3_stretched = []\n",
        "train4_stretched = []\n",
        "train5_stretched = []\n",
        "train6_stretched = []\n",
        "train7_stretched = []\n",
        "train8_stretched = []\n",
        "train9_stretched = []\n",
        "\n",
        "for i in range (len(train_images)):\n",
        "  each_image = []\n",
        "  min_j, min_k, max_j, max_k = 255,255,0,0;\n",
        "\n",
        "  for j in range (len(train_images[i])):\n",
        "    for k in range (len(train_images[i])):\n",
        "      each_image.append(train_images[i][j][k])\n",
        "      if(train_images[i][j][k] > 0):\n",
        "        if(j < min_j):\n",
        "          min_j = j\n",
        "        if(j > max_j):\n",
        "           max_j = j\n",
        "        if(k < min_k):\n",
        "          min_k = k\n",
        "        if(k > max_k):\n",
        "          max_k = k\n",
        "  TRAIN_IMAGES.append(each_image)\n",
        "  if train_labels[i] == 0:\n",
        "    train0.append(each_image)\n",
        "  elif train_labels[i] == 1:\n",
        "    train1.append(each_image)\n",
        "  elif train_labels[i] == 2:\n",
        "    train2.append(each_image)\n",
        "  elif train_labels[i] == 3:\n",
        "    train3.append(each_image)\n",
        "  elif train_labels[i] == 4:\n",
        "    train4.append(each_image)\n",
        "  elif train_labels[i] == 5:\n",
        "    train5.append(each_image)\n",
        "  elif train_labels[i] == 6:\n",
        "    train6.append(each_image)\n",
        "  elif train_labels[i] == 7:\n",
        "    train7.append(each_image)\n",
        "  elif train_labels[i] == 8:\n",
        "    train8.append(each_image)\n",
        "  elif train_labels[i] == 9:\n",
        "    train9.append(each_image)\n",
        "\n",
        "  val = (20 - (max_j - (min_j-1)))//2\n",
        "  max_j = max_j + val\n",
        "  min_j = min_j - val\n",
        "\n",
        "  val = (20 - (max_k - (min_k-1)))//2\n",
        "  max_k = max_k + val\n",
        "  min_k = min_k - val\n",
        "\n",
        "  max_j += 20 - (max_j - (min_j-1))\n",
        "  max_k += 20 - (max_k - (min_k-1))\n",
        "\n",
        "  if(max_j > 27):\n",
        "    min_j -= (max_j-27)\n",
        "    max_j = 27\n",
        "\n",
        "  if(max_k > 27):\n",
        "    min_k -= (max_k-27)\n",
        "    max_k = 27\n",
        "\n",
        "  each_image = []\n",
        "  for j in range (min_j, max_j+1):\n",
        "    for k in range (min_k, max_k+1):\n",
        "      each_image.append(train_images[i][j][k])\n",
        "  \n",
        "  STRETCHED_TRAIN_IMAGES.append(each_image)\n",
        "  if train_labels[i] == 0:\n",
        "    train0_stretched.append(each_image)\n",
        "  elif train_labels[i] == 1:\n",
        "    train1_stretched.append(each_image)\n",
        "  elif train_labels[i] == 2:\n",
        "    train2_stretched.append(each_image)\n",
        "  elif train_labels[i] == 3:\n",
        "    train3_stretched.append(each_image)\n",
        "  elif train_labels[i] == 4:\n",
        "    train4_stretched.append(each_image)\n",
        "  elif train_labels[i] == 5:\n",
        "    train5_stretched.append(each_image)\n",
        "  elif train_labels[i] == 6:\n",
        "    train6_stretched.append(each_image)\n",
        "  elif train_labels[i] == 7:\n",
        "    train7_stretched.append(each_image)\n",
        "  elif train_labels[i] == 8:\n",
        "    train8_stretched.append(each_image)\n",
        "  elif train_labels[i] == 9:\n",
        "    train9_stretched.append(each_image)\n",
        "\n",
        "print('Untouched and stretched images generated successfully !')"
      ],
      "execution_count": null,
      "outputs": [
        {
          "output_type": "stream",
          "text": [
            "Untouched and stretched images generated successfully !\n"
          ],
          "name": "stdout"
        }
      ]
    },
    {
      "metadata": {
        "id": "3e2Selkvzw7k"
      },
      "cell_type": "markdown",
      "source": [
        "## Get label Probabilities"
      ]
    },
    {
      "metadata": {
        "id": "W0aX4BThz0Pz",
        "outputId": "28f95de1-1c36-41cb-9cf9-1511f4d90d98",
        "colab": {
          "base_uri": "https://localhost:8080/",
          "height": 34
        }
      },
      "cell_type": "code",
      "source": [
        "P_0 = len(train0)/len(train_labels)\n",
        "P_1 = len(train1)/len(train_labels)\n",
        "P_2 = len(train2)/len(train_labels)\n",
        "P_3 = len(train3)/len(train_labels)\n",
        "P_4 = len(train4)/len(train_labels)\n",
        "P_5 = len(train5)/len(train_labels)\n",
        "P_6 = len(train6)/len(train_labels)\n",
        "P_7 = len(train7)/len(train_labels)\n",
        "P_8 = len(train8)/len(train_labels)\n",
        "P_9 = len(train9)/len(train_labels)\n",
        "\n",
        "\n",
        "print('Successfully generated probabilities !')"
      ],
      "execution_count": null,
      "outputs": [
        {
          "output_type": "stream",
          "text": [
            "Successfully generated probabilities !\n"
          ],
          "name": "stdout"
        }
      ]
    },
    {
      "metadata": {
        "id": "fDXorIrw1B9W"
      },
      "cell_type": "markdown",
      "source": [
        "## Get mean and variance for each pixel"
      ]
    },
    {
      "metadata": {
        "id": "ytI9SVeS1L5l"
      },
      "cell_type": "code",
      "source": [
        "import numpy as np\n",
        "\n",
        "\n",
        "def generateMeanVar(train0, train1, train2, train3, train4, train5, train6, train7, train8, train9): \n",
        "  t0 = np.asarray(train0)\n",
        "  t1 = np.asarray(train1)\n",
        "  t2 = np.asarray(train2)\n",
        "  t3 = np.asarray(train3)\n",
        "  t4 = np.asarray(train4)\n",
        "  t5 = np.asarray(train5)\n",
        "  t6 = np.asarray(train6)\n",
        "  t7 = np.asarray(train7)\n",
        "  t8 = np.asarray(train8)\n",
        "  t9 = np.asarray(train9)\n",
        "\n",
        "  mean_0 = []\n",
        "  mean_1 = []\n",
        "  mean_2 = []\n",
        "  mean_3 = []\n",
        "  mean_4 = []\n",
        "  mean_5 = []\n",
        "  mean_6 = []\n",
        "  mean_7 = []\n",
        "  mean_8 = []\n",
        "  mean_9 = []\n",
        "\n",
        "  var_0 = []\n",
        "  var_1 = []\n",
        "  var_2 = []\n",
        "  var_3 = []\n",
        "  var_4 = []\n",
        "  var_5 = []\n",
        "  var_6 = []\n",
        "  var_7 = []\n",
        "  var_8 = []\n",
        "  var_9 = []\n",
        "\n",
        "  for i in range(0,len(train0[0])):\n",
        "    mean_0.append(np.mean(t0[:,i]))\n",
        "    mean_1.append(np.mean(t1[:,i]))\n",
        "    mean_2.append(np.mean(t2[:,i]))\n",
        "    mean_3.append(np.mean(t3[:,i]))\n",
        "    mean_4.append(np.mean(t4[:,i]))\n",
        "    mean_5.append(np.mean(t5[:,i]))\n",
        "    mean_6.append(np.mean(t6[:,i]))\n",
        "    mean_7.append(np.mean(t7[:,i]))\n",
        "    mean_8.append(np.mean(t8[:,i]))\n",
        "    mean_9.append(np.mean(t9[:,i]))\n",
        "    if(np.var(t0[:,i]) > 0):\n",
        "      var_0.append(np.var(t0[:,i]))\n",
        "    else:\n",
        "      var_0.append(0.000000000000001)\n",
        "    if(np.var(t1[:,i]) > 0):\n",
        "      var_1.append(np.var(t1[:,i]))\n",
        "    else:\n",
        "      var_1.append(0.000000000000001)\n",
        "    if(np.var(t2[:,i]) > 0):\n",
        "      var_2.append(np.var(t2[:,i]))\n",
        "    else:\n",
        "      var_2.append(0.000000000000001)\n",
        "    if(np.var(t3[:,i]) > 0):\n",
        "      var_3.append(np.var(t3[:,i]))\n",
        "    else:\n",
        "      var_3.append(0.000000000000001)\n",
        "    if(np.var(t4[:,i]) > 0):\n",
        "      var_4.append(np.var(t4[:,i]))\n",
        "    else:\n",
        "      var_4.append(0.000000000000001)\n",
        "    if(np.var(t5[:,i]) > 0):\n",
        "      var_5.append(np.var(t5[:,i]))\n",
        "    else:\n",
        "      var_5.append(0.000000000000001)\n",
        "    if(np.var(t6[:,i]) > 0):\n",
        "      var_6.append(np.var(t6[:,i]))\n",
        "    else:\n",
        "      var_6.append(0.000000000000001)\n",
        "    if(np.var(t7[:,i]) > 0):\n",
        "      var_7.append(np.var(t7[:,i]))\n",
        "    else:\n",
        "      var_7.append(0.000000000000001)\n",
        "    if(np.var(t8[:,i]) > 0):\n",
        "      var_8.append(np.var(t8[:,i]))\n",
        "    else:\n",
        "      var_8.append(0.000000000000001)\n",
        "    if(np.var(t9[:,i]) > 0):\n",
        "      var_9.append(np.var(t9[:,i]))\n",
        "    else:\n",
        "      var_9.append(0.000000000000001)\n",
        "  \n",
        "  print('Mean and Variance generated successfully !')\n",
        "    \n",
        "  return (mean_0, mean_1, mean_2, mean_3, mean_4, mean_5, mean_6, mean_7, mean_8, mean_9, var_0, var_1, var_2, var_3, var_4, var_5, var_6, var_7, var_8, var_9)\n",
        " "
      ],
      "execution_count": null,
      "outputs": []
    },
    {
      "metadata": {
        "id": "E8DiviJnFQq_"
      },
      "cell_type": "markdown",
      "source": [
        "## Check accuracy for Test Data using Normal Distribution"
      ]
    },
    {
      "metadata": {
        "id": "kPpaeuzCFXdn",
        "outputId": "91121206-f13f-460e-f64f-515b4118299c",
        "colab": {
          "base_uri": "https://localhost:8080/",
          "height": 238
        }
      },
      "cell_type": "code",
      "source": [
        "from scipy.stats import norm\n",
        "\n",
        "test_images = data_dict['test_images']\n",
        "test_labels = data_dict['test_labels']\n",
        "no_of_tests = test_images.shape[0]\n",
        "\n",
        "images = []\n",
        "\n",
        "for i in range (no_of_tests):\n",
        "  each_image = []\n",
        "  for j in range (len(test_images[i])):\n",
        "    for k in range (len(test_images[i])):\n",
        "      each_image.append(test_images[i][j][k])\n",
        "  images.append(each_image)\n",
        "      \n",
        "TEST_IMAGES = np.asarray(images)\n",
        "\n",
        "print('Number of Tests: ', len(TEST_IMAGES))\n",
        "\n",
        "def getHighestProbability(probs):\n",
        "  max = probs[0]\n",
        "  res = 0\n",
        "  for i in range(1,10):\n",
        "    if probs[i] > max:\n",
        "      max = probs[i]\n",
        "      res = i\n",
        "  return res\n",
        "\n",
        "def getAccuracy(TEST_IMAGES, test_labels, distribution, mean_0, mean_1, mean_2, mean_3, mean_4, mean_5, mean_6, mean_7, mean_8, mean_9, var_0, var_1, var_2, var_3, var_4, var_5, var_6, var_7, var_8, var_9, P):\n",
        "  accuracy = 0\n",
        "  for i in range(0,100):#len(TEST_IMAGES)\n",
        "    prob0 = np.log(P[0])\n",
        "    prob1 = np.log(P[1])\n",
        "    prob2 = np.log(P[2])\n",
        "    prob3 = np.log(P[3])\n",
        "    prob4 = np.log(P[4])\n",
        "    prob5 = np.log(P[5])\n",
        "    prob6 = np.log(P[6])\n",
        "    prob7 = np.log(P[7])\n",
        "    prob8 = np.log(P[8])\n",
        "    prob9 = np.log(P[9])\n",
        "    \n",
        "    for j in range(0, len(TEST_IMAGES[0])):\n",
        "      if(distribution == 'normal'):\n",
        "        prob0+=np.log(norm.pdf(TEST_IMAGES[i,j], mean_0[j], np.sqrt(var_0[j])))\n",
        "        prob1+=np.log(norm.pdf(TEST_IMAGES[i,j], mean_1[j], np.sqrt(var_1[j])))\n",
        "        prob2+=np.log(norm.pdf(TEST_IMAGES[i,j], mean_2[j], np.sqrt(var_2[j])))\n",
        "        prob3+=np.log(norm.pdf(TEST_IMAGES[i,j], mean_3[j], np.sqrt(var_3[j])))\n",
        "        prob4+=np.log(norm.pdf(TEST_IMAGES[i,j], mean_4[j], np.sqrt(var_4[j])))\n",
        "        prob5+=np.log(norm.pdf(TEST_IMAGES[i,j], mean_5[j], np.sqrt(var_5[j])))\n",
        "        prob6+=np.log(norm.pdf(TEST_IMAGES[i,j], mean_6[j], np.sqrt(var_6[j])))\n",
        "        prob7+=np.log(norm.pdf(TEST_IMAGES[i,j], mean_7[j], np.sqrt(var_7[j])))\n",
        "        prob8+=np.log(norm.pdf(TEST_IMAGES[i,j], mean_8[j], np.sqrt(var_8[j])))\n",
        "        prob9+=np.log(norm.pdf(TEST_IMAGES[i,j], mean_9[j], np.sqrt(var_9[j])))\n",
        "      else: \n",
        "        prob0+=np.log(norm.pdf(TEST_IMAGES[i,j], mean_0[j], np.sqrt(var_0[j])))\n",
        "        prob1+=np.log(norm.pdf(TEST_IMAGES[i,j], mean_1[j], np.sqrt(var_1[j])))\n",
        "        prob2+=np.log(norm.pdf(TEST_IMAGES[i,j], mean_2[j], np.sqrt(var_2[j])))\n",
        "        prob3+=np.log(norm.pdf(TEST_IMAGES[i,j], mean_3[j], np.sqrt(var_3[j])))\n",
        "        prob4+=np.log(norm.pdf(TEST_IMAGES[i,j], mean_4[j], np.sqrt(var_4[j])))\n",
        "        prob5+=np.log(norm.pdf(TEST_IMAGES[i,j], mean_5[j], np.sqrt(var_5[j])))\n",
        "        prob6+=np.log(norm.pdf(TEST_IMAGES[i,j], mean_6[j], np.sqrt(var_6[j])))\n",
        "        prob7+=np.log(norm.pdf(TEST_IMAGES[i,j], mean_7[j], np.sqrt(var_7[j])))\n",
        "        prob8+=np.log(norm.pdf(TEST_IMAGES[i,j], mean_8[j], np.sqrt(var_8[j])))\n",
        "        prob9+=np.log(norm.pdf(TEST_IMAGES[i,j], mean_9[j], np.sqrt(var_9[j])))\n",
        "\n",
        "    res = getHighestProbability([prob0, prob1, prob2, prob3, prob4, prob5, prob6, prob7, prob8, prob9])\n",
        "\n",
        "    if(res == test_labels[i]):\n",
        "      accuracy += 1\n",
        "      \n",
        "  return accuracy/100#len(TEST_IMAGES)\n",
        "\n",
        "(mean_0, mean_1, mean_2, mean_3, mean_4, mean_5, mean_6, mean_7, mean_8, mean_9, var_0, var_1, var_2, var_3, var_4, var_5, var_6, var_7, var_8, var_9) = generateMeanVar(train0, train1, train2, train3, train4, train5, train6, train7, train8, train9)\n",
        "accuracy = getAccuracy(TEST_IMAGES, test_labels, 'normal', mean_0, mean_1, mean_2, mean_3, mean_4, mean_5, mean_6, mean_7, mean_8, mean_9, var_0, var_1, var_2, var_3, var_4, var_5, var_6, var_7, var_8, var_9, [P_0, P_1, P_2, P_3, P_4, P_5, P_6, P_7, P_8, P_9])\n",
        "print('Accuracy: ', accuracy)"
      ],
      "execution_count": null,
      "outputs": [
        {
          "output_type": "stream",
          "text": [
            "Number of Tests:  10000\n",
            "Mean and Variance generated successfully !\n"
          ],
          "name": "stdout"
        },
        {
          "output_type": "stream",
          "text": [
            "/usr/local/lib/python3.6/dist-packages/ipykernel_launcher.py:46: RuntimeWarning: divide by zero encountered in log\n",
            "/usr/local/lib/python3.6/dist-packages/ipykernel_launcher.py:51: RuntimeWarning: divide by zero encountered in log\n",
            "/usr/local/lib/python3.6/dist-packages/ipykernel_launcher.py:47: RuntimeWarning: divide by zero encountered in log\n",
            "/usr/local/lib/python3.6/dist-packages/ipykernel_launcher.py:45: RuntimeWarning: divide by zero encountered in log\n",
            "/usr/local/lib/python3.6/dist-packages/ipykernel_launcher.py:48: RuntimeWarning: divide by zero encountered in log\n",
            "/usr/local/lib/python3.6/dist-packages/ipykernel_launcher.py:53: RuntimeWarning: divide by zero encountered in log\n",
            "/usr/local/lib/python3.6/dist-packages/ipykernel_launcher.py:52: RuntimeWarning: divide by zero encountered in log\n",
            "/usr/local/lib/python3.6/dist-packages/ipykernel_launcher.py:54: RuntimeWarning: divide by zero encountered in log\n",
            "/usr/local/lib/python3.6/dist-packages/ipykernel_launcher.py:49: RuntimeWarning: divide by zero encountered in log\n",
            "/usr/local/lib/python3.6/dist-packages/ipykernel_launcher.py:50: RuntimeWarning: divide by zero encountered in log\n"
          ],
          "name": "stderr"
        },
        {
          "output_type": "stream",
          "text": [
            "Accuracy:  0.49\n"
          ],
          "name": "stdout"
        }
      ]
    },
    {
      "metadata": {
        "id": "EsHS_moacCj7"
      },
      "cell_type": "markdown",
      "source": [
        "## Generate image for mean values untouched"
      ]
    },
    {
      "metadata": {
        "id": "UYV12e9ccGMq",
        "outputId": "72d95ca2-68f0-41a4-f825-1c2ae3be0312",
        "colab": {
          "base_uri": "https://localhost:8080/",
          "height": 3317
        }
      },
      "cell_type": "code",
      "source": [
        "import matplotlib.pyplot as plt\n",
        "\n",
        "def generateShape(d, n):\n",
        "  d.shape=(n, n)\n",
        "  plt.imshow(d,cmap='gray')\n",
        "  plt.show()\n",
        "    \n",
        "generateShape(np.asarray(mean_0), 28)\n",
        "generateShape(np.asarray(mean_1), 28)\n",
        "generateShape(np.asarray(mean_2), 28)\n",
        "generateShape(np.asarray(mean_3), 28)\n",
        "generateShape(np.asarray(mean_4), 28)\n",
        "generateShape(np.asarray(mean_5), 28)\n",
        "generateShape(np.asarray(mean_6), 28)\n",
        "generateShape(np.asarray(mean_7), 28)\n",
        "generateShape(np.asarray(mean_8), 28)\n",
        "generateShape(np.asarray(mean_9), 28)"
      ],
      "execution_count": null,
      "outputs": [
        {
          "output_type": "display_data",
          "data": {
            "image/png": "[encoded data removed]",
            "text/plain": [
              "<Figure size 576x396 with 1 Axes>"
            ]
          },
          "metadata": {
            "tags": []
          }
        },
        {
          "output_type": "display_data",
          "data": {
            "image/png": "[encoded data removed]",
            "text/plain": [
              "<Figure size 576x396 with 1 Axes>"
            ]
          },
          "metadata": {
            "tags": []
          }
        },
        {
          "output_type": "display_data",
          "data": {
            "image/png": "[encoded data removed]",
            "text/plain": [
              "<Figure size 576x396 with 1 Axes>"
            ]
          },
          "metadata": {
            "tags": []
          }
        },
        {
          "output_type": "display_data",
          "data": {
            "image/png": "[encoded data removed]",
            "text/plain": [
              "<Figure size 576x396 with 1 Axes>"
            ]
          },
          "metadata": {
            "tags": []
          }
        },
        {
          "output_type": "display_data",
          "data": {
            "image/png": "[encoded data removed]",
            "text/plain": [
              "<Figure size 576x396 with 1 Axes>"
            ]
          },
          "metadata": {
            "tags": []
          }
        },
        {
          "output_type": "display_data",
          "data": {
            "image/png": "[encoded data removed]",
            "text/plain": [
              "<Figure size 576x396 with 1 Axes>"
            ]
          },
          "metadata": {
            "tags": []
          }
        },
        {
          "output_type": "display_data",
          "data": {
            "image/png": "[encoded data removed]",
            "text/plain": [
              "<Figure size 576x396 with 1 Axes>"
            ]
          },
          "metadata": {
            "tags": []
          }
        },
        {
          "output_type": "display_data",
          "data": {
            "image/png": "[encoded data removed]",
            "text/plain": [
              "<Figure size 576x396 with 1 Axes>"
            ]
          },
          "metadata": {
            "tags": []
          }
        },
        {
          "output_type": "display_data",
          "data": {
            "image/png": "[encoded data removed]",
            "text/plain": [
              "<Figure size 576x396 with 1 Axes>"
            ]
          },
          "metadata": {
            "tags": []
          }
        },
        {
          "output_type": "display_data",
          "data": {
            "image/png": "[encoded data removed]",
            "text/plain": [
              "<Figure size 576x396 with 1 Axes>"
            ]
          },
          "metadata": {
            "tags": []
          }
        }
      ]
    },
    {
      "metadata": {
        "id": "IT_4uiPPVfjV"
      },
      "cell_type": "markdown",
      "source": [
        "## Check accuracy for Test Data using Bernouilli Distribution"
      ]
    },
    {
      "metadata": {
        "id": "NNOY08iNVlXm"
      },
      "cell_type": "code",
      "source": [
        ""
      ],
      "execution_count": null,
      "outputs": []
    },
    {
      "metadata": {
        "id": "n9xKKpcOr8Ni"
      },
      "cell_type": "markdown",
      "source": [
        "## Stretch Test images"
      ]
    },
    {
      "metadata": {
        "id": "6dIeWOSRsAYg",
        "outputId": "d2be68aa-73e7-44b0-c3d7-603c955f8cc7",
        "colab": {
          "base_uri": "https://localhost:8080/",
          "height": 34
        }
      },
      "cell_type": "code",
      "source": [
        "stretched_test_images = []\n",
        "for i in range (len(test_images)):\n",
        "  min_j, min_k, max_j, max_k = 255,255,0,0;\n",
        "  for j in range (len(test_images[i])):\n",
        "    for k in range (len(test_images[i])):\n",
        "      if(test_images[i][j][k] > 0):\n",
        "        if(j < min_j):\n",
        "          min_j = j\n",
        "        if(j > max_j):\n",
        "           max_j = j\n",
        "        if(k < min_k):\n",
        "          min_k = k\n",
        "        if(k > max_k):\n",
        "          max_k = k\n",
        "  val = (20 - (max_j - (min_j-1)))//2\n",
        "  max_j = max_j + val\n",
        "  min_j = min_j - val\n",
        "\n",
        "  val = (20 - (max_k - (min_k-1)))//2\n",
        "  max_k = max_k + val\n",
        "  min_k = min_k - val\n",
        "\n",
        "  max_j += 20 - (max_j - (min_j-1))\n",
        "  max_k += 20 - (max_k - (min_k-1))\n",
        "\n",
        "  if(max_j > 27):\n",
        "    min_j -= (max_j-27)\n",
        "    max_j = 27\n",
        "\n",
        "  if(max_k > 27):\n",
        "    min_k -= (max_k-27)\n",
        "    max_k = 27\n",
        "\n",
        "  each_image = []\n",
        "  for j in range (min_j, max_j+1):\n",
        "    for k in range (min_k, max_k+1):\n",
        "      each_image.append(test_images[i][j][k])\n",
        "  stretched_test_images.append(each_image)\n",
        "\n",
        "print('Test images stretched successfully !')"
      ],
      "execution_count": null,
      "outputs": [
        {
          "output_type": "stream",
          "text": [
            "Test images stretched successfully !\n"
          ],
          "name": "stdout"
        }
      ]
    },
    {
      "metadata": {
        "id": "P292m13NWLcc"
      },
      "cell_type": "markdown",
      "source": [
        "## Check accuracy for Test Data with stretched images using ND"
      ]
    },
    {
      "metadata": {
        "id": "p1xDZYJAjwBW",
        "outputId": "7154758d-9fa3-4e4d-b6b0-c9db6d9b08c2",
        "colab": {
          "base_uri": "https://localhost:8080/",
          "height": 136
        }
      },
      "cell_type": "code",
      "source": [
        "(str_mean_0, str_mean_1, str_mean_2, str_mean_3, str_mean_4, str_mean_5, str_mean_6, str_mean_7, str_mean_8, str_mean_9, var_0, var_1, var_2, var_3, var_4, var_5, var_6, var_7, var_8, var_9) = generateMeanVar(train0_stretched, train1_stretched, train2_stretched, train3_stretched, train4_stretched, train5_stretched, train6_stretched, train7_stretched, train8_stretched, train9_stretched)\n",
        "STRETCHED_TEST_IMAGES = np.asarray(stretched_test_images)\n",
        "accuracy = getAccuracy(STRETCHED_TEST_IMAGES, test_labels, 'normal', str_mean_0, str_mean_1, str_mean_2, str_mean_3, str_mean_4, str_mean_5, str_mean_6, str_mean_7, str_mean_8, str_mean_9, var_0, var_1, var_2, var_3, var_4, var_5, var_6, var_7, var_8, var_9, [P_0, P_1, P_2, P_3, P_4, P_5, P_6, P_7, P_8, P_9])\n",
        "print('Accuracy: ', accuracy)"
      ],
      "execution_count": null,
      "outputs": [
        {
          "output_type": "stream",
          "text": [
            "Mean and Variance generated successfully !\n"
          ],
          "name": "stdout"
        },
        {
          "output_type": "stream",
          "text": [
            "/usr/local/lib/python3.6/dist-packages/ipykernel_launcher.py:46: RuntimeWarning: divide by zero encountered in log\n",
            "/usr/local/lib/python3.6/dist-packages/ipykernel_launcher.py:52: RuntimeWarning: divide by zero encountered in log\n",
            "/usr/local/lib/python3.6/dist-packages/ipykernel_launcher.py:54: RuntimeWarning: divide by zero encountered in log\n",
            "/usr/local/lib/python3.6/dist-packages/ipykernel_launcher.py:51: RuntimeWarning: divide by zero encountered in log\n",
            "/usr/local/lib/python3.6/dist-packages/ipykernel_launcher.py:45: RuntimeWarning: divide by zero encountered in log\n"
          ],
          "name": "stderr"
        },
        {
          "output_type": "stream",
          "text": [
            "Accuracy:  0.74\n"
          ],
          "name": "stdout"
        }
      ]
    },
    {
      "metadata": {
        "id": "CnHcURxRh1o4"
      },
      "cell_type": "markdown",
      "source": [
        "## images with mean values"
      ]
    },
    {
      "metadata": {
        "id": "-BxuJA0Qh4fC",
        "outputId": "e96e7133-7be1-47c0-a8f7-d7f8e2c5e481",
        "colab": {
          "base_uri": "https://localhost:8080/",
          "height": 3317
        }
      },
      "cell_type": "code",
      "source": [
        "generateShape(np.asarray(str_mean_0), 20)\n",
        "generateShape(np.asarray(str_mean_1), 20)\n",
        "generateShape(np.asarray(str_mean_2), 20)\n",
        "generateShape(np.asarray(str_mean_3), 20)\n",
        "generateShape(np.asarray(str_mean_4), 20)\n",
        "generateShape(np.asarray(str_mean_5), 20)\n",
        "generateShape(np.asarray(str_mean_6), 20)\n",
        "generateShape(np.asarray(str_mean_7), 20)\n",
        "generateShape(np.asarray(str_mean_8), 20)\n",
        "generateShape(np.asarray(str_mean_9), 20)"
      ],
      "execution_count": null,
      "outputs": [
        {
          "output_type": "display_data",
          "data": {
            "image/png": "[encoded data removed]",
            "text/plain": [
              "<Figure size 576x396 with 1 Axes>"
            ]
          },
          "metadata": {
            "tags": []
          }
        },
        {
          "output_type": "display_data",
          "data": {
            "image/png": "[encoded data removed]",
            "text/plain": [
              "<Figure size 576x396 with 1 Axes>"
            ]
          },
          "metadata": {
            "tags": []
          }
        },
        {
          "output_type": "display_data",
          "data": {
            "image/png": "[encoded data removed]",
            "text/plain": [
              "<Figure size 576x396 with 1 Axes>"
            ]
          },
          "metadata": {
            "tags": []
          }
        },
        {
          "output_type": "display_data",
          "data": {
            "image/png": "[encoded data removed]",
            "text/plain": [
              "<Figure size 576x396 with 1 Axes>"
            ]
          },
          "metadata": {
            "tags": []
          }
        },
        {
          "output_type": "display_data",
          "data": {
            "image/png": "[encoded data removed]",
            "text/plain": [
              "<Figure size 576x396 with 1 Axes>"
            ]
          },
          "metadata": {
            "tags": []
          }
        },
        {
          "output_type": "display_data",
          "data": {
            "image/png": "[encoded data removed]",
            "text/plain": [
              "<Figure size 576x396 with 1 Axes>"
            ]
          },
          "metadata": {
            "tags": []
          }
        },
        {
          "output_type": "display_data",
          "data": {
            "image/png": "[encoded data removed]",
            "text/plain": [
              "<Figure size 576x396 with 1 Axes>"
            ]
          },
          "metadata": {
            "tags": []
          }
        },
        {
          "output_type": "display_data",
          "data": {
            "image/png": "[encoded data removed]",
            "text/plain": [
              "<Figure size 576x396 with 1 Axes>"
            ]
          },
          "metadata": {
            "tags": []
          }
        },
        {
          "output_type": "display_data",
          "data": {
            "image/png": "[encoded data removed]",
            "text/plain": [
              "<Figure size 576x396 with 1 Axes>"
            ]
          },
          "metadata": {
            "tags": []
          }
        },
        {
          "output_type": "display_data",
          "data": {
            "image/png": "[encoded data removed]",
            "text/plain": [
              "<Figure size 576x396 with 1 Axes>"
            ]
          },
          "metadata": {
            "tags": []
          }
        }
      ]
    },
    {
      "metadata": {
        "id": "8ESHUUvqjq8T"
      },
      "cell_type": "markdown",
      "source": [
        "## Check accuracy for Test Data  with Stretched images using BD"
      ]
    },
    {
      "metadata": {
        "id": "c9sDmnDHLIn8"
      },
      "cell_type": "markdown",
      "source": [
        "## Split dataset into train and test"
      ]
    },
    {
      "metadata": {
        "id": "bcacRChUk0Sm",
        "outputId": "50e3f985-cd8f-4866-8ba9-683599d2f397",
        "colab": {
          "base_uri": "https://localhost:8080/",
          "height": 232
        }
      },
      "cell_type": "code",
      "source": [
        "xtrain = np.asarray(TRAIN_IMAGES)[0:48000,1:]\n",
        "xtrain_labels = np.asarray(train_labels)[0:48000,0]\n",
        "xtest = np.asarray(TRAIN_IMAGES)[48000:,1:]\n",
        "xtest_labels = np.asarray(train_labels)[48000:,0]\n",
        "\n",
        "xtrain_stretched = np.asarray(STRETCHED_TRAIN_IMAGES)[0:48000,1:]\n",
        "xtest_stretched = np.asarray(STRETCHED_TRAIN_IMAGES)[48000:,1:]\n",
        "\n",
        "train0 = []\n",
        "train1 = []\n",
        "train2 = []\n",
        "train3 = []\n",
        "train4 = []\n",
        "train5 = []\n",
        "train6 = []\n",
        "train7 = []\n",
        "train8 = []\n",
        "train9 = []\n",
        "\n",
        "train0_stretched = []\n",
        "train1_stretched = []\n",
        "train2_stretched = []\n",
        "train3_stretched = []\n",
        "train4_stretched = []\n",
        "train5_stretched = []\n",
        "train6_stretched = []\n",
        "train7_stretched = []\n",
        "train8_stretched = []\n",
        "train9_stretched = []\n",
        "\n",
        "for i in range(len(xtrain)):\n",
        "  if xtrain_labels[i] == 0:\n",
        "    train0.append(xtrain[i])\n",
        "    train0_stretched.append(xtrain_stretched[i])\n",
        "  elif xtrain_labels[i] == 1:\n",
        "    train1.append(xtrain[i])\n",
        "    train1_stretched.append(xtrain_stretched[i])\n",
        "  elif xtrain_labels[i] == 2:\n",
        "    train2.append(xtrain[i])\n",
        "    train2_stretched.append(xtrain_stretched[i])\n",
        "  elif xtrain_labels[i] == 3:\n",
        "    train3.append(xtrain[i])\n",
        "    train3_stretched.append(xtrain_stretched[i])\n",
        "  elif xtrain_labels[i] == 4:\n",
        "    train4.append(xtrain[i])\n",
        "    train4_stretched.append(xtrain_stretched[i])\n",
        "  elif xtrain_labels[i] == 5:\n",
        "    train5.append(xtrain[i])\n",
        "    train5_stretched.append(xtrain_stretched[i])\n",
        "  elif xtrain_labels[i] == 6:\n",
        "    train6.append(xtrain[i])\n",
        "    train6_stretched.append(xtrain_stretched[i])\n",
        "  elif xtrain_labels[i] == 7:\n",
        "    train7.append(xtrain[i])\n",
        "    train7_stretched.append(xtrain_stretched[i])\n",
        "  elif xtrain_labels[i] == 8:\n",
        "    train8.append(xtrain[i])\n",
        "    train8_stretched.append(xtrain_stretched[i])\n",
        "  elif xtrain_labels[i] == 9:\n",
        "    train9.append(xtrain[i])\n",
        "    train9_stretched.append(xtrain_stretched[i])"
      ],
      "execution_count": null,
      "outputs": [
        {
          "output_type": "error",
          "ename": "IndexError",
          "evalue": "ignored",
          "traceback": [
            "\u001b[0;31m---------------------------------------------------------------------------\u001b[0m",
            "\u001b[0;31mIndexError\u001b[0m                                Traceback (most recent call last)",
            "\u001b[0;32m<ipython-input-73-475fffe0d9a2>\u001b[0m in \u001b[0;36m<module>\u001b[0;34m()\u001b[0m\n\u001b[1;32m      1\u001b[0m \u001b[0mxtrain\u001b[0m \u001b[0;34m=\u001b[0m \u001b[0mnp\u001b[0m\u001b[0;34m.\u001b[0m\u001b[0masarray\u001b[0m\u001b[0;34m(\u001b[0m\u001b[0mTRAIN_IMAGES\u001b[0m\u001b[0;34m)\u001b[0m\u001b[0;34m[\u001b[0m\u001b[0;36m0\u001b[0m\u001b[0;34m:\u001b[0m\u001b[0;36m48000\u001b[0m\u001b[0;34m,\u001b[0m\u001b[0;36m1\u001b[0m\u001b[0;34m:\u001b[0m\u001b[0;34m]\u001b[0m\u001b[0;34m\u001b[0m\u001b[0;34m\u001b[0m\u001b[0m\n\u001b[0;32m----> 2\u001b[0;31m \u001b[0mxtrain_labels\u001b[0m \u001b[0;34m=\u001b[0m \u001b[0mnp\u001b[0m\u001b[0;34m.\u001b[0m\u001b[0masarray\u001b[0m\u001b[0;34m(\u001b[0m\u001b[0mtrain_labels\u001b[0m\u001b[0;34m)\u001b[0m\u001b[0;34m[\u001b[0m\u001b[0;36m0\u001b[0m\u001b[0;34m:\u001b[0m\u001b[0;36m48000\u001b[0m\u001b[0;34m,\u001b[0m\u001b[0;36m0\u001b[0m\u001b[0;34m]\u001b[0m\u001b[0;34m\u001b[0m\u001b[0;34m\u001b[0m\u001b[0m\n\u001b[0m\u001b[1;32m      3\u001b[0m \u001b[0mxtest\u001b[0m \u001b[0;34m=\u001b[0m \u001b[0mnp\u001b[0m\u001b[0;34m.\u001b[0m\u001b[0masarray\u001b[0m\u001b[0;34m(\u001b[0m\u001b[0mTRAIN_IMAGES\u001b[0m\u001b[0;34m)\u001b[0m\u001b[0;34m[\u001b[0m\u001b[0;36m48000\u001b[0m\u001b[0;34m:\u001b[0m\u001b[0;34m,\u001b[0m\u001b[0;36m1\u001b[0m\u001b[0;34m:\u001b[0m\u001b[0;34m]\u001b[0m\u001b[0;34m\u001b[0m\u001b[0;34m\u001b[0m\u001b[0m\n\u001b[1;32m      4\u001b[0m \u001b[0mxtest_labels\u001b[0m \u001b[0;34m=\u001b[0m \u001b[0mnp\u001b[0m\u001b[0;34m.\u001b[0m\u001b[0masarray\u001b[0m\u001b[0;34m(\u001b[0m\u001b[0mtrain_labels\u001b[0m\u001b[0;34m)\u001b[0m\u001b[0;34m[\u001b[0m\u001b[0;36m48000\u001b[0m\u001b[0;34m:\u001b[0m\u001b[0;34m,\u001b[0m\u001b[0;36m0\u001b[0m\u001b[0;34m]\u001b[0m\u001b[0;34m\u001b[0m\u001b[0;34m\u001b[0m\u001b[0m\n\u001b[1;32m      5\u001b[0m \u001b[0;34m\u001b[0m\u001b[0m\n",
            "\u001b[0;31mIndexError\u001b[0m: too many indices for array"
          ]
        }
      ]
    },
    {
      "metadata": {
        "id": "1yWOCrvhPYgh"
      },
      "cell_type": "markdown",
      "source": [
        "## Get label probability for splitted train data"
      ]
    },
    {
      "metadata": {
        "id": "HMBCTDrtPfZG"
      },
      "cell_type": "code",
      "source": [
        "P_0 = len(train0)/len(xtrain_labels)\n",
        "P_1 = len(train1)/len(xtrain_labels)\n",
        "P_2 = len(train2)/len(xtrain_labels)\n",
        "P_3 = len(train3)/len(xtrain_labels)\n",
        "P_4 = len(train4)/len(xtrain_labels)\n",
        "P_5 = len(train5)/len(xtrain_labels)\n",
        "P_6 = len(train6)/len(xtrain_labels)\n",
        "P_7 = len(train7)/len(xtrain_labels)\n",
        "P_8 = len(train8)/len(xtrain_labels)\n",
        "P_9 = len(train9)/len(xtrain_labels)\n"
      ],
      "execution_count": null,
      "outputs": []
    },
    {
      "metadata": {
        "id": "b_n1AlooP3fD"
      },
      "cell_type": "markdown",
      "source": [
        "## Check accuracy for Train Data using Normal Distribution"
      ]
    },
    {
      "metadata": {
        "id": "E88dOEElP61W"
      },
      "cell_type": "code",
      "source": [
        "XTEST_IMAGES = np.asarray(xtest)\n",
        "(mean_0, mean_1, mean_2, mean_3, mean_4, mean_5, mean_6, mean_7, mean_8, mean_9, var_0, var_1, var_2, var_3, var_4, var_5, var_6, var_7, var_8, var_9) = generateMeanVar(train0, train1, train2, train3, train4, train5, train6, train7, train8, train9)\n",
        "accuracy = getAccuracy(XTEST_IMAGES, xtest_labels, 'normal', mean_0, mean_1, mean_2, mean_3, mean_4, mean_5, mean_6, mean_7, mean_8, mean_9, var_0, var_1, var_2, var_3, var_4, var_5, var_6, var_7, var_8, var_9, [P_0, P_1, P_2, P_3, P_4, P_5, P_6, P_7, P_8, P_9])\n",
        "print('Accuracy: ', accuracy)"
      ],
      "execution_count": null,
      "outputs": []
    },
    {
      "metadata": {
        "id": "_WwNdMMqgQAl"
      },
      "cell_type": "markdown",
      "source": [
        "## images with the mean values"
      ]
    },
    {
      "metadata": {
        "id": "WglL7bZagTYu"
      },
      "cell_type": "code",
      "source": [
        ""
      ],
      "execution_count": null,
      "outputs": []
    },
    {
      "metadata": {
        "id": "oBx6DnlGQdfS"
      },
      "cell_type": "markdown",
      "source": [
        "## Check accuracy for Train Data using Bernouilli Distribution"
      ]
    },
    {
      "metadata": {
        "id": "b_C5rzpxQkJZ"
      },
      "cell_type": "code",
      "source": [
        ""
      ],
      "execution_count": null,
      "outputs": []
    },
    {
      "metadata": {
        "id": "yKfNzZCAQk4N"
      },
      "cell_type": "markdown",
      "source": [
        "## Check accuracy for Train Data with stretched images using ND"
      ]
    },
    {
      "metadata": {
        "id": "Vj54sItfQqli"
      },
      "cell_type": "code",
      "source": [
        "XTEST_STRETCHED = np.asarray(xtest_stretched)\n",
        "(mean_0, mean_1, mean_2, mean_3, mean_4, mean_5, mean_6, mean_7, mean_8, mean_9, var_0, var_1, var_2, var_3, var_4, var_5, var_6, var_7, var_8, var_9) = generateMeanVar(train0_stretched, train1_stretched, train2_stretched, train3_stretched, train4_stretched, train5_stretched, train6_stretched, train7_stretched, train8_stretched, train9_stretched)\n",
        "accuracy = getAccuracy(XTEST_STRETCHED, xtest_labels, 'normal', mean_0, mean_1, mean_2, mean_3, mean_4, mean_5, mean_6, mean_7, mean_8, mean_9, var_0, var_1, var_2, var_3, var_4, var_5, var_6, var_7, var_8, var_9, [P_0, P_1, P_2, P_3, P_4, P_5, P_6, P_7, P_8, P_9])\n",
        "print('Accuracy: ', accuracy)"
      ],
      "execution_count": null,
      "outputs": []
    },
    {
      "metadata": {
        "id": "Bk_YjaewRA24"
      },
      "cell_type": "markdown",
      "source": [
        "## Check accuracy for Train Data with stretched images using Bernouilli Distribution"
      ]
    },
    {
      "metadata": {
        "id": "vaNIyQHfRIOn"
      },
      "cell_type": "code",
      "source": [
        ""
      ],
      "execution_count": null,
      "outputs": []
    },
    {
      "metadata": {
        "id": "5ofXVWm04Hqk"
      },
      "cell_type": "markdown",
      "source": [
        "# Problem 2B - MNIST using Decision Forest"
      ]
    },
    {
      "metadata": {
        "id": "rsTSPvMa41PB"
      },
      "cell_type": "markdown",
      "source": [
        "## Decision Tree with depth 4"
      ]
    },
    {
      "metadata": {
        "id": "RJmB_oE05IMl"
      },
      "cell_type": "markdown",
      "source": [
        "### Untouched images with 10 trees"
      ]
    },
    {
      "metadata": {
        "id": "v_Do7oz65O7C",
        "outputId": "48c17b9a-aab6-4071-db3c-4ca867255567",
        "colab": {
          "base_uri": "https://localhost:8080/",
          "height": 34
        }
      },
      "cell_type": "code",
      "source": [
        "from sklearn.ensemble.forest import RandomForestClassifier\n",
        "\n",
        "np_train_images = np.asarray(TRAIN_IMAGES)\n",
        "\n",
        "clf=RandomForestClassifier(n_estimators=10, max_depth=4)\n",
        "clf.fit(np_train_images, train_labels)\n",
        "\n",
        "p=clf.predict(TEST_IMAGES)\n",
        "\n",
        "count=0\n",
        "for i in range(0,len(test_labels)):\n",
        "  count+=1 if p[i]==test_labels[i] else 0\n",
        "\n",
        "print(\"Accuracy Untouched images with 10 trees: \", count/len(test_labels))"
      ],
      "execution_count": null,
      "outputs": [
        {
          "output_type": "stream",
          "text": [
            "Accuracy Untouched images with 10 trees:  0.7534\n"
          ],
          "name": "stdout"
        }
      ]
    },
    {
      "metadata": {
        "id": "WCqV5lnrAFYU"
      },
      "cell_type": "markdown",
      "source": [
        "### Untouched images with 30 trees"
      ]
    },
    {
      "metadata": {
        "id": "yOw_RbotBScI",
        "outputId": "6381f439-2161-4ea0-91bf-bdbffa86323c",
        "colab": {
          "base_uri": "https://localhost:8080/",
          "height": 34
        }
      },
      "cell_type": "code",
      "source": [
        "\n",
        "clf=RandomForestClassifier(n_estimators=30, max_depth=4)\n",
        "clf.fit(np_train_images, train_labels)\n",
        "\n",
        "p=clf.predict(TEST_IMAGES)\n",
        "\n",
        "count=0\n",
        "for i in range(0,len(test_labels)):\n",
        "  count+=1 if p[i]==test_labels[i] else 0\n",
        "\n",
        "print(\"Accuracy Untouched images with 30 trees: \", count/len(test_labels))"
      ],
      "execution_count": null,
      "outputs": [
        {
          "output_type": "stream",
          "text": [
            "Accuracy Untouched images with 30 trees:  0.809\n"
          ],
          "name": "stdout"
        }
      ]
    },
    {
      "metadata": {
        "id": "pdvuWXVjBf04"
      },
      "cell_type": "markdown",
      "source": [
        "### Stretched images with 10 trees"
      ]
    },
    {
      "metadata": {
        "id": "4tndKp9NBj-T",
        "outputId": "ddd949b0-738a-4bf0-bbd5-ea8805cafe3e",
        "colab": {
          "base_uri": "https://localhost:8080/",
          "height": 34
        }
      },
      "cell_type": "code",
      "source": [
        "np_stretched_train_images = np.asarray(STRETCHED_TRAIN_IMAGES)\n",
        "STRETCHED_TEST_IMAGES = np.asarray(stretched_test_images)\n",
        "\n",
        "clf=RandomForestClassifier(n_estimators=10, max_depth=4)\n",
        "clf.fit(np_stretched_train_images, train_labels)\n",
        "\n",
        "p=clf.predict(STRETCHED_TEST_IMAGES)\n",
        "\n",
        "count=0\n",
        "for i in range(0,len(test_labels)):\n",
        "  count+=1 if p[i]==test_labels[i] else 0\n",
        "\n",
        "print(\"Accuracy Stretched images with 10 trees: \", count/len(test_labels))"
      ],
      "execution_count": null,
      "outputs": [
        {
          "output_type": "stream",
          "text": [
            "Accuracy Stretched images with 10 trees:  0.7666\n"
          ],
          "name": "stdout"
        }
      ]
    },
    {
      "metadata": {
        "id": "bFqAAEbBC51c"
      },
      "cell_type": "markdown",
      "source": [
        "### Stretched images with 30 trees"
      ]
    },
    {
      "metadata": {
        "id": "R1KUx1ybC9pJ",
        "outputId": "e5fe27a3-b9b0-44d7-8366-d94e06137fc3",
        "colab": {
          "base_uri": "https://localhost:8080/",
          "height": 34
        }
      },
      "cell_type": "code",
      "source": [
        "clf=RandomForestClassifier(n_estimators=30, max_depth=4)\n",
        "clf.fit(np_stretched_train_images, train_labels)\n",
        "\n",
        "p=clf.predict(STRETCHED_TEST_IMAGES)\n",
        "\n",
        "count=0\n",
        "for i in range(0,len(test_labels)):\n",
        "  count+=1 if p[i]==test_labels[i] else 0\n",
        "\n",
        "print(\"Accuracy Stretched images with 30 trees: \", count/len(test_labels))"
      ],
      "execution_count": null,
      "outputs": [
        {
          "output_type": "stream",
          "text": [
            "Accuracy Stretched images with 30 trees:  0.7982\n"
          ],
          "name": "stdout"
        }
      ]
    },
    {
      "metadata": {
        "id": "aSVXBVrxDMuG"
      },
      "cell_type": "markdown",
      "source": [
        "## Decision Tree with depth 16"
      ]
    },
    {
      "metadata": {
        "id": "5qV9QndDDRJw"
      },
      "cell_type": "markdown",
      "source": [
        "### Untouched images with 10 trees"
      ]
    },
    {
      "metadata": {
        "id": "6LsddE7ODPPV",
        "outputId": "94387307-e204-4dbe-f030-a1026462f90a",
        "colab": {
          "base_uri": "https://localhost:8080/",
          "height": 34
        }
      },
      "cell_type": "code",
      "source": [
        "clf=RandomForestClassifier(n_estimators=10, max_depth=16)\n",
        "clf.fit(np_train_images, train_labels)\n",
        "\n",
        "p=clf.predict(TEST_IMAGES)\n",
        "\n",
        "count=0\n",
        "for i in range(0,len(test_labels)):\n",
        "  count+=1 if p[i]==test_labels[i] else 0\n",
        "\n",
        "print(\"Accuracy Untouched images with 10 trees: \", count/len(test_labels))"
      ],
      "execution_count": null,
      "outputs": [
        {
          "output_type": "stream",
          "text": [
            "Accuracy Untouched images with 10 trees:  0.9452\n"
          ],
          "name": "stdout"
        }
      ]
    },
    {
      "metadata": {
        "id": "zTjeTAj7DpDe"
      },
      "cell_type": "markdown",
      "source": [
        "### Untouched images with 30 trees"
      ]
    },
    {
      "metadata": {
        "id": "Ltojv4WGDtGQ",
        "outputId": "9cfa450b-fe22-49ac-da8c-039cdf8f38e6",
        "colab": {
          "base_uri": "https://localhost:8080/",
          "height": 34
        }
      },
      "cell_type": "code",
      "source": [
        "clf=RandomForestClassifier(n_estimators=30, max_depth=16)\n",
        "clf.fit(np_train_images, train_labels)\n",
        "\n",
        "p=clf.predict(TEST_IMAGES)\n",
        "\n",
        "count=0\n",
        "for i in range(0,len(test_labels)):\n",
        "  count+=1 if p[i]==test_labels[i] else 0\n",
        "\n",
        "print(\"Accuracy Untouched images with 30 trees: \", count/len(test_labels))"
      ],
      "execution_count": null,
      "outputs": [
        {
          "output_type": "stream",
          "text": [
            "Accuracy Untouched images with 30 trees:  0.9625\n"
          ],
          "name": "stdout"
        }
      ]
    },
    {
      "metadata": {
        "id": "yZMHKLd1DtyF"
      },
      "cell_type": "markdown",
      "source": [
        "### Stretched images with 10 trees"
      ]
    },
    {
      "metadata": {
        "id": "VhAbnCbVDv3B",
        "outputId": "179ef08b-0601-4c4f-fbfd-c45f2f928280",
        "colab": {
          "base_uri": "https://localhost:8080/",
          "height": 34
        }
      },
      "cell_type": "code",
      "source": [
        "clf=RandomForestClassifier(n_estimators=10, max_depth=16)\n",
        "clf.fit(np_stretched_train_images, train_labels)\n",
        "\n",
        "p=clf.predict(STRETCHED_TEST_IMAGES)\n",
        "\n",
        "count=0\n",
        "for i in range(0,len(test_labels)):\n",
        "  count+=1 if p[i]==test_labels[i] else 0\n",
        "\n",
        "print(\"Accuracy Stretched images with 10 trees: \", count/len(test_labels))"
      ],
      "execution_count": null,
      "outputs": [
        {
          "output_type": "stream",
          "text": [
            "Accuracy Stretched images with 10 trees:  0.9499\n"
          ],
          "name": "stdout"
        }
      ]
    },
    {
      "metadata": {
        "id": "pTlJJcTkDwWr"
      },
      "cell_type": "markdown",
      "source": [
        "### Stretched images with 30 trees"
      ]
    },
    {
      "metadata": {
        "id": "StpEmMD_Dy7_",
        "outputId": "c388b225-6d61-4834-e183-a0a35221c878",
        "colab": {
          "base_uri": "https://localhost:8080/",
          "height": 34
        }
      },
      "cell_type": "code",
      "source": [
        "clf=RandomForestClassifier(n_estimators=30, max_depth=16)\n",
        "clf.fit(np_stretched_train_images, train_labels)\n",
        "\n",
        "p=clf.predict(STRETCHED_TEST_IMAGES)\n",
        "\n",
        "count=0\n",
        "for i in range(0,len(test_labels)):\n",
        "  count+=1 if p[i]==test_labels[i] else 0\n",
        "\n",
        "print(\"Accuracy Stretched images with 30 trees: \", count/len(test_labels))"
      ],
      "execution_count": null,
      "outputs": [
        {
          "output_type": "stream",
          "text": [
            "Accuracy Stretched images with 30 trees:  0.9623\n"
          ],
          "name": "stdout"
        }
      ]
    }
  ]
}