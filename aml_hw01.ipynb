{
  "nbformat": 4,
  "nbformat_minor": 0,
  "metadata": {
    "colab": {
      "name": "aml_hw01.ipynb",
      "provenance": [],
      "collapsed_sections": [],
      "toc_visible": true
    },
    "kernelspec": {
      "name": "python3",
      "display_name": "Python 3"
    }
  },
  "cells": [
    {
      "metadata": {
        "id": "6fvwt0iKFVhu"
      },
      "cell_type": "markdown",
      "source": [
        "# **Class - Applied Machine Learning** \n",
        "## Homework - 01 - Classification With Naive Bayes\n",
        "###Submitted by: Naveen Vasu(nvasu2@illinois.edu) & Rohit Bansal(rbansal3@illinois.edu)\n",
        "---\n",
        "\n",
        "\n"
      ]
    },
    {
      "metadata": {
        "id": "EYGVD14KGJ9A"
      },
      "cell_type": "markdown",
      "source": [
        "# Problem 1: Diabetes Classification"
      ]
    },
    {
      "metadata": {
        "id": "yWU2oru4GqQn"
      },
      "cell_type": "markdown",
      "source": [
        "## Part 1A "
      ]
    },
    {
      "metadata": {
        "id": "TCVA7dZkyBT2",
        "outputId": "881c3ba4-120c-4069-fc9e-330e9c8a4f82",
        "colab": {
          "base_uri": "https://localhost:8080/",
          "height": 71
        }
      },
      "cell_type": "code",
      "source": [
        "import pandas as pd\n",
        "import numpy as np\n",
        "import random\n",
        "import math\n",
        "from scipy.stats import norm\n",
        "\n",
        "#Read the data file\n",
        "def readFile():\n",
        "    my_file = pd.read_csv( '../content/pima-indians-diabetes.csv' , \n",
        "                        sep = ',', \n",
        "                        names = ['Preg','Glu','BP','ST','INS','BMI','DPF','Age','Label'])\n",
        "    return my_file\n",
        "\n",
        "#Split the data into train and test set by 80-20\n",
        "def split(my_file):\n",
        "    x= random.randint(0,int((my_file['Label'].count()-1)*.8))\n",
        "    y = int((my_file['Label'].count()-1)*.2)\n",
        "    arr = my_file.values\n",
        "    train = arr[0:x]\n",
        "    test = arr[x:x+y]\n",
        "    train2 = arr[x+y:]\n",
        "    train = np.append(train, train2, axis=0)\n",
        "    return (train, test)\n",
        "\n",
        "#Split the training into two classes of label (1 and 0)\n",
        "def classifyTrain(train):\n",
        "    row_indices1 = np.where(train[:,8] == 1)\n",
        "    row_indices0 = np.where(train[:,8] == 0)\n",
        "    train1      = train[row_indices1]\n",
        "    train0      = train[row_indices0]\n",
        "    return (train1, train0)\n",
        "\n",
        "#From the two arrays get the normal distribution parameters \n",
        "#i.e. mean and variance for each attribute\n",
        "def getnormdist(train1,train0):\n",
        "    mean1 = []\n",
        "    var1 = []\n",
        "    mean0 = []\n",
        "    var0 = []\n",
        "    for i in range(0,8):\n",
        "        mean1.append(np.mean(train1[:,i]))\n",
        "        var1.append(np.var(train1[:,i]))\n",
        "        mean0.append(np.mean(train0[:,i]))\n",
        "        var0.append(np.var(train0[:,i]))\n",
        "    return (mean1, var1, mean0, var0)\n",
        "\n",
        "#Get Label probability as required for naive bayes\n",
        "def getLabelProb(train1,train0):\n",
        "    x = np.size(train1,0)\n",
        "    y = np.size(train0,0)\n",
        "    p1 = x/(x+y)\n",
        "    p0 = 1-p1\n",
        "    return (p1,p0)\n",
        "\n",
        "#Apply Naive Bayes to get accuracy of predictions \n",
        "def testAccuracyNB(p1,p0,mean1,var1,mean0,var0,test):\n",
        "    accuracy = 0\n",
        "    #print(np.size(test,0))\n",
        "    for i in range(0,np.size(test,0)):\n",
        "        #insitialize with log of label probability\n",
        "        prob1 = np.log(p1)\n",
        "        prob0 = np.log(p0)\n",
        "        res = -1\n",
        "        #loop to get add the log of each parameter conditional probability \n",
        "        #i.e. p(x/y) for y = 0 and 1 \n",
        "        for j in range(0,8):\n",
        "            prob1+=np.log(norm.pdf(test[i,j], mean1[j], np.sqrt(var1[j])))\n",
        "            prob0+=np.log(norm.pdf(test[i,j], mean0[j], np.sqrt(var0[j])))\n",
        "        #assign the higher prob\n",
        "        if prob1 > prob0:\n",
        "            res = 1\n",
        "        else:\n",
        "            res = 0\n",
        "        #Check if you got it right or not, \n",
        "        #if yes add it to your accuracy count\n",
        "        if res == test[i,8]:\n",
        "            accuracy+=1\n",
        "    #calculate the % for accuracy and return\n",
        "    return accuracy/np.size(test,0)\n",
        "\n",
        "def classifyUsingNB():\n",
        "    #read datafile\n",
        "    f = readFile()\n",
        "    acc = []\n",
        "    #get the prediction 10 times by spliting it 10 times randomly\n",
        "    for i in range(0,10):\n",
        "        #split the data in 80-20 ratio\n",
        "        (train, test) = split(f)\n",
        "        #get the array data for label1 and label0\n",
        "        (t1,t0) = classifyTrain(train)\n",
        "        #get the probability of 1 and 0 based on train data \n",
        "        (p1,p0) = getLabelProb(t1,t0)\n",
        "        #get the normal distribution parameters\n",
        "        (m1,v1,m0,v0) = getnormdist(t1,t0)\n",
        "        #get the predication's accuracy using naive bayes\n",
        "        acc.append(testAccuracyNB(p1,p0,m1,v1,m0,v0,test))\n",
        "    #print the average accuracy\n",
        "    print (acc)\n",
        "    print(sum(acc)/len(acc))\n",
        "    return (sum(acc)/len(acc))\n",
        "\n",
        "accuracy1A = classifyUsingNB()  "
      ],
      "execution_count": null,
      "outputs": [
        {
          "output_type": "stream",
          "text": [
            "[0.7908496732026143, 0.7712418300653595, 0.8235294117647058, 0.7908496732026143, 0.7973856209150327, 0.7777777777777778, 0.6993464052287581, 0.7777777777777778, 0.7712418300653595, 0.738562091503268]\n",
            "0.7738562091503268\n"
          ],
          "name": "stdout"
        }
      ]
    },
    {
      "metadata": {
        "id": "ddlnDFdvGtBg"
      },
      "cell_type": "markdown",
      "source": [
        "## Part 1B"
      ]
    },
    {
      "metadata": {
        "id": "ceSYX2_g0zeU",
        "outputId": "146b0727-615c-4e85-c7e5-df520d415536",
        "colab": {
          "base_uri": "https://localhost:8080/",
          "height": 34
        }
      },
      "cell_type": "code",
      "source": [
        "#From the two arrays get the normal distribution parameters \n",
        "#i.e. mean and variance for each attribute\n",
        "def getnormdist1(train1,train0):\n",
        "    mean1 = []\n",
        "    var1 = []\n",
        "    mean0 = []\n",
        "    var0 = []\n",
        "    special = [2,3,5,7]\n",
        "    for i in range(0,8):\n",
        "        if i in special:\n",
        "            row_nums1 = np.where(train1[:,i] != 0)\n",
        "            temp1 = train1[row_nums1]\n",
        "            row_nums0 = np.where(train0[:,i] != 0)\n",
        "            temp0 = train0[row_nums0]\n",
        "            mean1.append(np.mean(train1[:,i]))\n",
        "            var1.append(np.var(train1[:,i]))\n",
        "            mean0.append(np.mean(train0[:,i]))\n",
        "            var0.append(np.var(train0[:,i]))\n",
        "        else:\n",
        "            mean1.append(np.mean(train1[:,i]))\n",
        "            var1.append(np.var(train1[:,i]))\n",
        "            mean0.append(np.mean(train0[:,i]))\n",
        "            var0.append(np.var(train0[:,i]))\n",
        "    return (mean1, var1, mean0, var0)\n",
        "\n",
        "#Apply Naive Bayes to get accuracy of predictions \n",
        "def testAccuracyNB1(p1,p0,mean1,var1,mean0,var0,test):\n",
        "    accuracy = 0\n",
        "    special = [2,3,5,7]\n",
        "    for i in range(0,np.size(test,0)):\n",
        "        #insitialize with log of label probability\n",
        "        prob1 = np.log(p1)\n",
        "        prob0 = np.log(p0)\n",
        "        res = -1\n",
        "        #loop to get add the log of each parameter conditional probability \n",
        "        #i.e. p(x/y) for y = 0 and 1 \n",
        "        for j in range(0,8):\n",
        "            if test[i,j] == 0 and j in special:\n",
        "                continue\n",
        "            prob1+=np.log(norm.pdf(test[i,j], mean1[j], np.sqrt(var1[j])))\n",
        "            prob0+=np.log(norm.pdf(test[i,j], mean0[j], np.sqrt(var0[j])))\n",
        "        #assign the higher prob\n",
        "        if prob1 > prob0:\n",
        "            res = 1\n",
        "        else:\n",
        "            res = 0\n",
        "        #Check if you got it right or not, \n",
        "        #if yes add it to your accuracy count\n",
        "        if res == test[i,8]:\n",
        "            accuracy+=1\n",
        "    #calculate the % for accuracy and return\n",
        "    return accuracy/np.size(test,0)\n",
        "\n",
        "def classifyUsingNB1():\n",
        "    #read datafile\n",
        "    f = readFile()\n",
        "    acc = []\n",
        "    #get the prediction 10 times by spliting it 10 times randomly\n",
        "    for i in range(0,10):\n",
        "        #split the data in 80-20 ratio\n",
        "        (train, test) = split(f)\n",
        "        #get the array data for label1 and label0\n",
        "        (t1,t0) = classifyTrain(train)\n",
        "        #get the probability of 1 and 0 based on train data \n",
        "        (p1,p0) = getLabelProb(t1,t0)\n",
        "        #get the normal distribution parameters\n",
        "        (m1,v1,m0,v0) = getnormdist1(t1,t0)\n",
        "        #get the predication's accuracy using naive bayes\n",
        "        acc.append(testAccuracyNB1(p1,p0,m1,v1,m0,v0,test))\n",
        "    #print(acc)\n",
        "    #print the average accuracy\n",
        "    print (sum(acc)/len(acc))\n",
        "    return (sum(acc)/len(acc))\n",
        "\n",
        "accuracy1B = classifyUsingNB1()        "
      ],
      "execution_count": null,
      "outputs": [
        {
          "output_type": "stream",
          "text": [
            "0.7686274509803921\n"
          ],
          "name": "stdout"
        }
      ]
    },
    {
      "metadata": {
        "id": "LY191fmcGlCo"
      },
      "cell_type": "markdown",
      "source": [
        "# Problem 2: MNIST Image Classification"
      ]
    },
    {
      "metadata": {
        "id": "58qoibB9G2nu"
      },
      "cell_type": "markdown",
      "source": [
        "## Preparing and Loading MNIST Datasets"
      ]
    },
    {
      "metadata": {
        "id": "4nqqjviAHDU1"
      },
      "cell_type": "markdown",
      "source": [
        "### Download dataset files"
      ]
    },
    {
      "metadata": {
        "id": "D8gOTCWfHGXR",
        "outputId": "6828f0e2-d8c7-453a-e347-c6965992a380",
        "colab": {
          "base_uri": "https://localhost:8080/",
          "height": 102
        }
      },
      "cell_type": "code",
      "source": [
        "import os,urllib.request\n",
        "\n",
        "datapath = '../Data/MNISTData/'\n",
        "if not os.path.exists(datapath):\n",
        "    os.makedirs(datapath)\n",
        "\n",
        "urls = ['http://yann.lecun.com/exdb/mnist/train-images-idx3-ubyte.gz',\n",
        "       'http://yann.lecun.com/exdb/mnist/train-labels-idx1-ubyte.gz',\n",
        "       'http://yann.lecun.com/exdb/mnist/t10k-images-idx3-ubyte.gz',\n",
        "       'http://yann.lecun.com/exdb/mnist/t10k-labels-idx1-ubyte.gz']\n",
        "\n",
        "for url in urls:\n",
        "    filename = url.split('/')[-1]\n",
        "    if os.path.exists(datapath+filename):\n",
        "        print(filename, ' already exists')\n",
        "    else:\n",
        "        print('Downloading ',filename)\n",
        "        urllib.request.urlretrieve (url, datapath+filename)\n",
        "     \n",
        "print('All files are downloaded for MNIST dataset')"
      ],
      "execution_count": null,
      "outputs": [
        {
          "output_type": "stream",
          "text": [
            "train-images-idx3-ubyte.gz  already exists\n",
            "train-labels-idx1-ubyte.gz  already exists\n",
            "t10k-images-idx3-ubyte.gz  already exists\n",
            "t10k-labels-idx1-ubyte.gz  already exists\n",
            "All files are downloaded for MNIST dataset\n"
          ],
          "name": "stdout"
        }
      ]
    },
    {
      "metadata": {
        "id": "tBX1Cw7SICCp"
      },
      "cell_type": "markdown",
      "source": [
        "### Extract files and load data into dictionary"
      ]
    },
    {
      "metadata": {
        "id": "VtNwmUfoIHGu",
        "outputId": "02061186-2e64-4d23-a459-883ced0d8119",
        "colab": {
          "base_uri": "https://localhost:8080/",
          "height": 272
        }
      },
      "cell_type": "code",
      "source": [
        "import os,gzip,shutil, codecs\n",
        "import numpy as np\n",
        "\n",
        "datapath = '../Data/MNISTData/'  \n",
        "files = os.listdir(datapath)\n",
        "for file in files:\n",
        "    if file.endswith('gz'):\n",
        "        print('Extracting ',file)\n",
        "        with gzip.open(datapath+file, 'rb') as f_in:\n",
        "            with open(datapath+file.split('.')[0], 'wb') as f_out:\n",
        "                shutil.copyfileobj(f_in, f_out)\n",
        "print('Extraction Complete')\n",
        "\n",
        "for file in files:\n",
        "    print('Removing ',file)\n",
        "    os.remove(datapath+file)\n",
        "print ('All archives removed')\n",
        "\n",
        "datapath = '../Data/MNISTData/'\n",
        "files = os.listdir(datapath)\n",
        "\n",
        "def get_int(b):\n",
        "  return int(codecs.encode(b, 'hex'), 16)\n",
        "\n",
        "data_dict = {}\n",
        "for file in files:\n",
        "    if file.endswith('ubyte'):\n",
        "        print('Reading ',file)\n",
        "        with open (datapath+file,'rb') as f:\n",
        "            data = f.read()\n",
        "            type = get_int(data[:4])\n",
        "            length = get_int(data[4:8])\n",
        "            if (type == 2051):\n",
        "                category = 'images'\n",
        "                num_rows = get_int(data[8:12])\n",
        "                num_cols = get_int(data[12:16])\n",
        "                parsed = np.frombuffer(data,dtype = np.uint8, offset = 16)\n",
        "                parsed = parsed.reshape(length,num_rows*num_cols)\n",
        "            elif(type == 2049):\n",
        "                category = 'labels'\n",
        "                parsed = np.frombuffer(data, dtype=np.uint8, offset=8)\n",
        "                parsed = parsed.reshape(length)\n",
        "            if (length==10000):\n",
        "                set = 'test'\n",
        "            elif (length==60000):\n",
        "                set = 'train'\n",
        "            data_dict[set+'_'+category] = parsed\n",
        "\n",
        "print(data_dict.keys())"
      ],
      "execution_count": null,
      "outputs": [
        {
          "output_type": "stream",
          "text": [
            "Extracting  train-images-idx3-ubyte.gz\n",
            "Extracting  t10k-labels-idx1-ubyte.gz\n",
            "Extracting  train-labels-idx1-ubyte.gz\n",
            "Extracting  t10k-images-idx3-ubyte.gz\n",
            "Extraction Complete\n",
            "Removing  train-images-idx3-ubyte.gz\n",
            "Removing  t10k-labels-idx1-ubyte.gz\n",
            "Removing  train-labels-idx1-ubyte.gz\n",
            "Removing  t10k-images-idx3-ubyte.gz\n",
            "All archives removed\n",
            "Reading  t10k-labels-idx1-ubyte\n",
            "Reading  train-labels-idx1-ubyte\n",
            "Reading  t10k-images-idx3-ubyte\n",
            "Reading  train-images-idx3-ubyte\n",
            "dict_keys(['test_labels', 'train_labels', 'test_images', 'train_images'])\n"
          ],
          "name": "stdout"
        }
      ]
    },
    {
      "metadata": {
        "id": "88d2oIyyLstz"
      },
      "cell_type": "markdown",
      "source": [
        "### Preparing Stretched Images"
      ]
    },
    {
      "metadata": {
        "id": "bjECEWslLyvU",
        "outputId": "7bc56e21-051d-4428-8def-807d016d87fc",
        "colab": {
          "base_uri": "https://localhost:8080/",
          "height": 51
        }
      },
      "cell_type": "code",
      "source": [
        "from PIL import Image, ImageDraw\n",
        "import matplotlib.pyplot as plt\n",
        "import cv2\n",
        "\n",
        "train_images = data_dict['train_images']\n",
        "train_labels = data_dict['train_labels']\n",
        "test_images = data_dict['test_images']\n",
        "test_labels = data_dict['test_labels']\n",
        "no_of_tests = test_images.shape[0]\n",
        "no_of_samples = train_images.shape[0]\n",
        "\n",
        "train0 = train_images[np.where(train_labels[:] == 0)]\n",
        "train1 = train_images[np.where(train_labels[:] == 1)]\n",
        "train2 = train_images[np.where(train_labels[:] == 2)]\n",
        "train3 = train_images[np.where(train_labels[:] == 3)]\n",
        "train4 = train_images[np.where(train_labels[:] == 4)]\n",
        "train5 = train_images[np.where(train_labels[:] == 5)]\n",
        "train6 = train_images[np.where(train_labels[:] == 6)]\n",
        "train7 = train_images[np.where(train_labels[:] == 7)]\n",
        "train8 = train_images[np.where(train_labels[:] == 8)]\n",
        "train9 = train_images[np.where(train_labels[:] == 9)]\n",
        "\n",
        "\n",
        "STRETCHED_TRAIN_IMAGES = train_images.reshape(no_of_samples, 28, 28)\n",
        "\n",
        "for i in range (no_of_samples):\n",
        "  \n",
        "  min_j, min_k, max_j, max_k = 255,255,0,0;\n",
        "  y=[]\n",
        "\n",
        "  for j in range (28):\n",
        "    for k in range (28):\n",
        "      if(STRETCHED_TRAIN_IMAGES[i][j][k] > 0):\n",
        "        if(j < min_j):\n",
        "          min_j = j\n",
        "        if(j > max_j):\n",
        "           max_j = j\n",
        "        if(k < min_k):\n",
        "          min_k = k\n",
        "        if(k > max_k):\n",
        "          max_k = k\n",
        "  \n",
        "  for j in range (min_j, max_j+1):\n",
        "    x=[]\n",
        "    for k in range (min_k, max_k+1):\n",
        "       x.append(STRETCHED_TRAIN_IMAGES[i][j][k])\n",
        "    y.append(x)\n",
        "  \n",
        "  arr = np.array(y)\n",
        "  resized = cv2.resize(arr, (20,20), interpolation = cv2.INTER_NEAREST)\n",
        "  \n",
        "  if i == 0:\n",
        "    stretched_train_image = resized.flatten().reshape(1,400)\n",
        "  else:\n",
        "    stretched_train_image = np.append(stretched_train_image, resized.flatten().reshape(1,400), axis = 0)\n",
        "  \n",
        "train0_stretched = stretched_train_image[np.where(train_labels[:] == 0)]\n",
        "train1_stretched = stretched_train_image[np.where(train_labels[:] == 1)]\n",
        "train2_stretched = stretched_train_image[np.where(train_labels[:] == 2)]\n",
        "train3_stretched = stretched_train_image[np.where(train_labels[:] == 3)]\n",
        "train4_stretched = stretched_train_image[np.where(train_labels[:] == 4)]\n",
        "train5_stretched = stretched_train_image[np.where(train_labels[:] == 5)]\n",
        "train6_stretched = stretched_train_image[np.where(train_labels[:] == 6)]\n",
        "train7_stretched = stretched_train_image[np.where(train_labels[:] == 7)]\n",
        "train8_stretched = stretched_train_image[np.where(train_labels[:] == 8)]\n",
        "train9_stretched = stretched_train_image[np.where(train_labels[:] == 9)]\n",
        "        \n",
        "print('Train images Strethed !')\n",
        "\n",
        "STRETCHED_TEST_IMAGES = test_images.reshape(no_of_tests, 28, 28)\n",
        "\n",
        "for i in range (no_of_tests):\n",
        "  \n",
        "  min_j, min_k, max_j, max_k = 255,255,0,0;\n",
        "  y=[]\n",
        "\n",
        "  for j in range (28):\n",
        "    for k in range (28):\n",
        "      if(STRETCHED_TEST_IMAGES[i][j][k] > 0):\n",
        "        if(j < min_j):\n",
        "          min_j = j\n",
        "        if(j > max_j):\n",
        "           max_j = j\n",
        "        if(k < min_k):\n",
        "          min_k = k\n",
        "        if(k > max_k):\n",
        "          max_k = k\n",
        "  \n",
        "  for j in range (min_j, max_j+1):\n",
        "    x=[]\n",
        "    for k in range (min_k, max_k+1):\n",
        "       x.append(STRETCHED_TEST_IMAGES[i][j][k])\n",
        "    y.append(x)\n",
        "  \n",
        "  arr = np.array(y)\n",
        "  resized = cv2.resize(arr, (20,20), interpolation = cv2.INTER_NEAREST)\n",
        "  \n",
        "  if i == 0:\n",
        "    stretched_test_image = resized.flatten().reshape(1,400)\n",
        "  else:\n",
        "    stretched_test_image = np.append(stretched_test_image, resized.flatten().reshape(1,400), axis = 0)\n",
        "\n",
        "print('Test images Strethed !')"
      ],
      "execution_count": null,
      "outputs": [
        {
          "output_type": "stream",
          "text": [
            "Train images Strethed !\n",
            "Test images Strethed !\n"
          ],
          "name": "stdout"
        }
      ]
    },
    {
      "metadata": {
        "id": "NEbS-CWuG8t_"
      },
      "cell_type": "markdown",
      "source": [
        "## Part 2A: MNIST using naive Bayes"
      ]
    },
    {
      "metadata": {
        "id": "hlfzmwTiOVgI"
      },
      "cell_type": "markdown",
      "source": [
        "### Normal distribution"
      ]
    },
    {
      "metadata": {
        "id": "Yu0836RRCbpm"
      },
      "cell_type": "markdown",
      "source": [
        "#### Accuracy for untouched images"
      ]
    },
    {
      "metadata": {
        "id": "N2a5L-wl9cZ_",
        "outputId": "f77f37d2-5b13-4dea-8fa6-84ea6596a841",
        "colab": {
          "base_uri": "https://localhost:8080/",
          "height": 85
        }
      },
      "cell_type": "code",
      "source": [
        "from scipy.stats import norm\n",
        "\n",
        "\n",
        "image_size = np.size(train0[0])\n",
        "\n",
        "P_0 = np.log((np.size(train0)/image_size)/no_of_samples)\n",
        "P_1 = np.log((np.size(train1)/image_size)/no_of_samples)\n",
        "P_2 = np.log((np.size(train2)/image_size)/no_of_samples)\n",
        "P_3 = np.log((np.size(train3)/image_size)/no_of_samples)\n",
        "P_4 = np.log((np.size(train4)/image_size)/no_of_samples)\n",
        "P_5 = np.log((np.size(train5)/image_size)/no_of_samples)\n",
        "P_6 = np.log((np.size(train6)/image_size)/no_of_samples)\n",
        "P_7 = np.log((np.size(train7)/image_size)/no_of_samples)\n",
        "P_8 = np.log((np.size(train8)/image_size)/no_of_samples)\n",
        "P_9 = np.log((np.size(train9)/image_size)/no_of_samples)\n",
        "print('Calculated probabilities !')\n",
        "\n",
        "def generateMeanVar(train0, train1, train2, train3, train4, train5, train6, train7, train8, train9): \n",
        "  mean_0 = (np.mean(train0, axis =0))\n",
        "  mean_1 = (np.mean(train1, axis =0))\n",
        "  mean_2 = (np.mean(train2, axis =0))\n",
        "  mean_3 = (np.mean(train3, axis =0))\n",
        "  mean_4 = (np.mean(train4, axis =0))\n",
        "  mean_5 = (np.mean(train5, axis =0))\n",
        "  mean_6 = (np.mean(train6, axis =0))\n",
        "  mean_7 = (np.mean(train7, axis =0))\n",
        "  mean_8 = (np.mean(train8, axis =0))\n",
        "  mean_9 = (np.mean(train9, axis =0))\n",
        "  var_0 = (np.std(train0, axis =0))\n",
        "  var_1 = (np.std(train1, axis =0))\n",
        "  var_2 = (np.std(train2, axis =0))\n",
        "  var_3 = (np.std(train3, axis =0))\n",
        "  var_4 = (np.std(train4, axis =0))\n",
        "  var_5 = (np.std(train5, axis =0))\n",
        "  var_6 = (np.std(train6, axis =0))\n",
        "  var_7 = (np.std(train7, axis =0))\n",
        "  var_8 = (np.std(train8, axis =0))\n",
        "  var_9 = (np.std(train9, axis =0))\n",
        "\n",
        "  nonzerovarrow0 = np.where(var_0[:]!=0) \n",
        "  nonzerovarrow1 = np.where(var_1[:]!=0) \n",
        "  nonzerovarrow2 = np.where(var_2[:]!=0) \n",
        "  nonzerovarrow3 = np.where(var_3[:]!=0) \n",
        "  nonzerovarrow4 = np.where(var_4[:]!=0) \n",
        "  nonzerovarrow5 = np.where(var_5[:]!=0) \n",
        "  nonzerovarrow6 = np.where(var_6[:]!=0) \n",
        "  nonzerovarrow7 = np.where(var_7[:]!=0) \n",
        "  nonzerovarrow8 = np.where(var_8[:]!=0)\n",
        "  nonzerovarrow9 = np.where(var_9[:]!=0) \n",
        "  \n",
        "  print('Mean and Variance generated successfully !')\n",
        "  \n",
        "  return (mean_0, mean_1, mean_2, mean_3, mean_4, mean_5, mean_6, mean_7, mean_8, mean_9, \n",
        "          var_0, var_1, var_2, var_3, var_4, var_5, var_6, var_7, var_8, var_9,\n",
        "         [nonzerovarrow0,nonzerovarrow1,nonzerovarrow2,nonzerovarrow3,nonzerovarrow4,\n",
        "          nonzerovarrow5,nonzerovarrow6,nonzerovarrow7,nonzerovarrow8,nonzerovarrow9])\n",
        "\n",
        "def getHighestProbability(probs):\n",
        "  max = probs[0]\n",
        "  res = 0\n",
        "  for i in range(1,10):\n",
        "    if probs[i] > max:\n",
        "      max = probs[i]\n",
        "      res = i\n",
        "  return res\n",
        "\n",
        "def getAccuracy(TEST_IMAGES, test_labels, mean_0, mean_1, mean_2, mean_3, mean_4, mean_5, mean_6, mean_7, mean_8, mean_9, \n",
        "                var_0, var_1, var_2, var_3, var_4, var_5, var_6, var_7, var_8, var_9, P,nonzerovarrow):\n",
        "  accuracy = 0\n",
        "  no = TEST_IMAGES.shape[0]\n",
        "  for i in range(0,no):\n",
        "    x = TEST_IMAGES[i,:]\n",
        "    \n",
        "    prob0 =P[0]+sum(norm.logpdf(x[nonzerovarrow[0]], mean_0[nonzerovarrow[0]], var_0[nonzerovarrow[0]]))\n",
        "    prob1 =P[1]+sum(norm.logpdf(x[nonzerovarrow[1]], mean_1[nonzerovarrow[1]], var_1[nonzerovarrow[1]]))\n",
        "    prob2 =P[2]+sum(norm.logpdf(x[nonzerovarrow[2]], mean_2[nonzerovarrow[2]], var_2[nonzerovarrow[2]]))\n",
        "    prob3 =P[3]+sum(norm.logpdf(x[nonzerovarrow[3]], mean_3[nonzerovarrow[3]], var_3[nonzerovarrow[3]]))\n",
        "    prob4 =P[4]+sum(norm.logpdf(x[nonzerovarrow[4]], mean_4[nonzerovarrow[4]], var_4[nonzerovarrow[4]]))\n",
        "    prob5 =P[5]+sum(norm.logpdf(x[nonzerovarrow[5]], mean_5[nonzerovarrow[5]], var_5[nonzerovarrow[5]]))\n",
        "    prob6 =P[6]+sum(norm.logpdf(x[nonzerovarrow[6]], mean_6[nonzerovarrow[6]], var_6[nonzerovarrow[6]]))\n",
        "    prob7 =P[7]+sum(norm.logpdf(x[nonzerovarrow[7]], mean_7[nonzerovarrow[7]], var_7[nonzerovarrow[7]]))\n",
        "    prob8 =P[8]+sum(norm.logpdf(x[nonzerovarrow[8]], mean_8[nonzerovarrow[8]], var_8[nonzerovarrow[8]]))\n",
        "    prob9 =P[9]+sum(norm.logpdf(x[nonzerovarrow[9]], mean_9[nonzerovarrow[9]], var_9[nonzerovarrow[9]]))\n",
        "\n",
        "    res = getHighestProbability([prob0, prob1, prob2, prob3, prob4, prob5, prob6, prob7, prob8, prob9])\n",
        "\n",
        "    if(res == test_labels[i]):\n",
        "      accuracy += 1\n",
        "      \n",
        "  return accuracy/no\n",
        "\n",
        "(mean_0, mean_1, mean_2, mean_3, mean_4, mean_5, mean_6, mean_7, mean_8, mean_9,\n",
        " var_0, var_1, var_2, var_3, var_4, var_5, var_6, var_7, var_8, var_9,\n",
        " nonzerovarrow) = generateMeanVar(train0, train1, train2, train3, train4, train5, train6, train7, train8, train9)\n",
        "\n",
        "accuracy_train_untouched = getAccuracy(train_images, train_labels, \n",
        "                                       mean_0, mean_1, mean_2, mean_3, mean_4, mean_5, mean_6, mean_7, mean_8, mean_9,\n",
        "                                       var_0, var_1, var_2, var_3, var_4, var_5, var_6, var_7, var_8, var_9, \n",
        "                                       [P_0, P_1, P_2, P_3, P_4, P_5, P_6, P_7, P_8, P_9], nonzerovarrow)\n",
        "\n",
        "print('Accuracy for the Train data with untouched images: ', accuracy_train_untouched)\n",
        "\n",
        "accuracy_test_untouched = getAccuracy(test_images, test_labels, \n",
        "                                      mean_0, mean_1, mean_2, mean_3, mean_4, mean_5, mean_6, mean_7, mean_8, mean_9,\n",
        "                                      var_0, var_1, var_2, var_3, var_4, var_5, var_6, var_7, var_8, var_9,\n",
        "                                      [P_0, P_1, P_2, P_3, P_4, P_5, P_6, P_7, P_8, P_9], nonzerovarrow)\n",
        "print('Accuracy for the Test data with untouched images: ', accuracy_test_untouched)"
      ],
      "execution_count": null,
      "outputs": [
        {
          "output_type": "stream",
          "text": [
            "Calculated probabilities !\n",
            "Mean and Variance generated successfully !\n",
            "Accuracy for the Train data with untouched images:  0.6498\n",
            "Accuracy for the Test data with untouched images:  0.6483\n"
          ],
          "name": "stdout"
        }
      ]
    },
    {
      "metadata": {
        "id": "yAtD2s_1Bju1"
      },
      "cell_type": "markdown",
      "source": [
        "#### Mean untouched images"
      ]
    },
    {
      "metadata": {
        "id": "bPxGgwtnBoR8",
        "outputId": "959edb93-4f43-47e2-f6de-8d1c9018ac72",
        "colab": {
          "base_uri": "https://localhost:8080/",
          "height": 3317
        }
      },
      "cell_type": "code",
      "source": [
        "def generateShape(d, n):\n",
        "  d.shape=(n, n)\n",
        "  plt.imshow(d,cmap='gray')\n",
        "  plt.show()\n",
        "\n",
        "generateShape(mean_0, 28)\n",
        "generateShape(mean_1, 28)\n",
        "generateShape(mean_2, 28)\n",
        "generateShape(mean_3, 28)\n",
        "generateShape(mean_4, 28)\n",
        "generateShape(mean_5, 28)\n",
        "generateShape(mean_6, 28)\n",
        "generateShape(mean_7, 28)\n",
        "generateShape(mean_8, 28)\n",
        "generateShape(mean_9, 28)  "
      ],
      "execution_count": null,
      "outputs": [
        {
          "output_type": "display_data",
          "data": {
            "image/png": "[encoded data removed]",
            "text/plain": [
              "<Figure size 576x396 with 1 Axes>"
            ]
          },
          "metadata": {
            "tags": []
          }
        },
        {
          "output_type": "display_data",
          "data": {
            "image/png": "[encoded data removed]",
            "text/plain": [
              "<Figure size 576x396 with 1 Axes>"
            ]
          },
          "metadata": {
            "tags": []
          }
        },
        {
          "output_type": "display_data",
          "data": {
            "image/png": "[encoded data removed]",
            "text/plain": [
              "<Figure size 576x396 with 1 Axes>"
            ]
          },
          "metadata": {
            "tags": []
          }
        },
        {
          "output_type": "display_data",
          "data": {
            "image/png": "[encoded data removed]",
            "text/plain": [
              "<Figure size 576x396 with 1 Axes>"
            ]
          },
          "metadata": {
            "tags": []
          }
        },
        {
          "output_type": "display_data",
          "data": {
            "image/png": "[encoded data removed]",
            "text/plain": [
              "<Figure size 576x396 with 1 Axes>"
            ]
          },
          "metadata": {
            "tags": []
          }
        },
        {
          "output_type": "display_data",
          "data": {
            "image/png": "[encoded data removed]",
            "text/plain": [
              "<Figure size 576x396 with 1 Axes>"
            ]
          },
          "metadata": {
            "tags": []
          }
        },
        {
          "output_type": "display_data",
          "data": {
            "image/png": "[encoded data removed]",
            "text/plain": [
              "<Figure size 576x396 with 1 Axes>"
            ]
          },
          "metadata": {
            "tags": []
          }
        },
        {
          "output_type": "display_data",
          "data": {
            "image/png": "[encoded data removed]",
            "text/plain": [
              "<Figure size 576x396 with 1 Axes>"
            ]
          },
          "metadata": {
            "tags": []
          }
        },
        {
          "output_type": "display_data",
          "data": {
            "image/png": "[encoded data removed]",
            "text/plain": [
              "<Figure size 576x396 with 1 Axes>"
            ]
          },
          "metadata": {
            "tags": []
          }
        },
        {
          "output_type": "display_data",
          "data": {
            "image/png": "[encoded data removed]",
            "text/plain": [
              "<Figure size 576x396 with 1 Axes>"
            ]
          },
          "metadata": {
            "tags": []
          }
        }
      ]
    },
    {
      "metadata": {
        "id": "iFSWgi7CCO7o"
      },
      "cell_type": "markdown",
      "source": [
        "#### Accuracy for Stretched images"
      ]
    },
    {
      "metadata": {
        "id": "waMPS5TMCj5B",
        "outputId": "ad5c4bb0-685e-457e-94c7-35006fd2f9ba",
        "colab": {
          "base_uri": "https://localhost:8080/",
          "height": 68
        }
      },
      "cell_type": "code",
      "source": [
        "(mean_0, mean_1, mean_2, mean_3, mean_4, mean_5, mean_6, mean_7, mean_8, mean_9, \n",
        " var_0, var_1, var_2, var_3, var_4, var_5, var_6, var_7, var_8, var_9, \n",
        " nonzerovarrow) = generateMeanVar(train0_stretched, train1_stretched, train2_stretched, train3_stretched, \n",
        "                train4_stretched, train5_stretched, train6_stretched, train7_stretched, train8_stretched, train9_stretched)\n",
        "\n",
        "accuracy_train_stretched = getAccuracy(stretched_train_image, train_labels, \n",
        "                                       mean_0, mean_1, mean_2, mean_3, mean_4, mean_5, mean_6, mean_7, mean_8, mean_9,\n",
        "                                       var_0, var_1, var_2, var_3, var_4, var_5, var_6, var_7, var_8, var_9, \n",
        "                                       [P_0, P_1, P_2, P_3, P_4, P_5, P_6, P_7, P_8, P_9], nonzerovarrow)\n",
        "print('Accuracy for the Train data with untouched images: ', accuracy_train_stretched)\n",
        "\n",
        "accuracy_test_stretched = getAccuracy(stretched_test_image, test_labels, \n",
        "                                      mean_0, mean_1, mean_2, mean_3, mean_4, mean_5, mean_6, mean_7, mean_8, mean_9,\n",
        "                                      var_0, var_1, var_2, var_3, var_4, var_5, var_6, var_7, var_8, var_9, \n",
        "                                      [P_0, P_1, P_2, P_3, P_4, P_5, P_6, P_7, P_8, P_9], nonzerovarrow)\n",
        "print('Accuracy for the Test data with untouched images: ', accuracy_test_stretched)"
      ],
      "execution_count": null,
      "outputs": [
        {
          "output_type": "stream",
          "text": [
            "Mean and Variance generated successfully !\n",
            "Accuracy for the Train data with untouched images:  0.81265\n",
            "Accuracy for the Test data with untouched images:  0.8263\n"
          ],
          "name": "stdout"
        }
      ]
    },
    {
      "metadata": {
        "id": "uJENzESxEL3A"
      },
      "cell_type": "markdown",
      "source": [
        "#### Mean Stretched images"
      ]
    },
    {
      "metadata": {
        "id": "Z32rK_6CEaGd",
        "outputId": "51e74f57-8722-40dc-a39d-a7544eeab505",
        "colab": {
          "base_uri": "https://localhost:8080/",
          "height": 3317
        }
      },
      "cell_type": "code",
      "source": [
        "generateShape(mean_0, 20)\n",
        "generateShape(mean_1, 20)\n",
        "generateShape(mean_2, 20)\n",
        "generateShape(mean_3, 20)\n",
        "generateShape(mean_4, 20)\n",
        "generateShape(mean_5, 20)\n",
        "generateShape(mean_6, 20)\n",
        "generateShape(mean_7, 20)\n",
        "generateShape(mean_8, 20)\n",
        "generateShape(mean_9, 20)  "
      ],
      "execution_count": null,
      "outputs": [
        {
          "output_type": "display_data",
          "data": {
            "image/png": "[encoded data removed]",
            "text/plain": [
              "<Figure size 576x396 with 1 Axes>"
            ]
          },
          "metadata": {
            "tags": []
          }
        },
        {
          "output_type": "display_data",
          "data": {
            "image/png": "[encoded data removed]",
            "text/plain": [
              "<Figure size 576x396 with 1 Axes>"
            ]
          },
          "metadata": {
            "tags": []
          }
        },
        {
          "output_type": "display_data",
          "data": {
            "image/png": "[encoded data removed]",
            "text/plain": [
              "<Figure size 576x396 with 1 Axes>"
            ]
          },
          "metadata": {
            "tags": []
          }
        },
        {
          "output_type": "display_data",
          "data": {
            "image/png": "[encoded data removed]",
            "text/plain": [
              "<Figure size 576x396 with 1 Axes>"
            ]
          },
          "metadata": {
            "tags": []
          }
        },
        {
          "output_type": "display_data",
          "data": {
            "image/png": "[encoded data removed]",
            "text/plain": [
              "<Figure size 576x396 with 1 Axes>"
            ]
          },
          "metadata": {
            "tags": []
          }
        },
        {
          "output_type": "display_data",
          "data": {
            "image/png": "[encoded data removed]",
            "text/plain": [
              "<Figure size 576x396 with 1 Axes>"
            ]
          },
          "metadata": {
            "tags": []
          }
        },
        {
          "output_type": "display_data",
          "data": {
            "image/png": "[encoded data removed]",
            "text/plain": [
              "<Figure size 576x396 with 1 Axes>"
            ]
          },
          "metadata": {
            "tags": []
          }
        },
        {
          "output_type": "display_data",
          "data": {
            "image/png": "[encoded data removed]",
            "text/plain": [
              "<Figure size 576x396 with 1 Axes>"
            ]
          },
          "metadata": {
            "tags": []
          }
        },
        {
          "output_type": "display_data",
          "data": {
            "image/png": "[encoded data removed]",
            "text/plain": [
              "<Figure size 576x396 with 1 Axes>"
            ]
          },
          "metadata": {
            "tags": []
          }
        },
        {
          "output_type": "display_data",
          "data": {
            "image/png": "[encoded data removed]",
            "text/plain": [
              "<Figure size 576x396 with 1 Axes>"
            ]
          },
          "metadata": {
            "tags": []
          }
        }
      ]
    },
    {
      "metadata": {
        "id": "vTaWRw3vN3HX"
      },
      "cell_type": "markdown",
      "source": [
        "### Bernouilli Distribution"
      ]
    },
    {
      "metadata": {
        "id": "HC0ZaIN6N-SM"
      },
      "cell_type": "markdown",
      "source": [
        "#### Accuracy for untouched images"
      ]
    },
    {
      "metadata": {
        "id": "eDEEaUYpOFi-",
        "outputId": "5148b203-8d8a-4ce7-c36e-37b202c7997e",
        "colab": {
          "base_uri": "https://localhost:8080/",
          "height": 391
        }
      },
      "cell_type": "code",
      "source": [
        "#Apply Threshold\n",
        "\n",
        "t_train_images = np.copy(train_images)\n",
        "t_train_images[t_train_images>0] = 1\n",
        "\n",
        "t_test_images = np.copy(test_images)\n",
        "t_test_images[t_test_images>0] = 1\n",
        "\n",
        "ts_train_images = np.copy(stretched_train_image)\n",
        "ts_train_images[ts_train_images>0] = 1\n",
        "\n",
        "ts_test_images = np.copy(stretched_test_image)\n",
        "ts_test_images[ts_test_images>0] = 1\n",
        "\n",
        "\n",
        "\n",
        "\n",
        "#get probability \n",
        "t_train0_stretched = ts_train_images[np.where(train_labels[:] == 0)]\n",
        "t_train1_stretched = ts_train_images[np.where(train_labels[:] == 1)]\n",
        "t_train2_stretched = ts_train_images[np.where(train_labels[:] == 2)]\n",
        "t_train3_stretched = ts_train_images[np.where(train_labels[:] == 3)]\n",
        "t_train4_stretched = ts_train_images[np.where(train_labels[:] == 4)]\n",
        "t_train5_stretched = ts_train_images[np.where(train_labels[:] == 5)]\n",
        "t_train6_stretched = ts_train_images[np.where(train_labels[:] == 6)]\n",
        "t_train7_stretched = ts_train_images[np.where(train_labels[:] == 7)]\n",
        "t_train8_stretched = ts_train_images[np.where(train_labels[:] == 8)]\n",
        "t_train9_stretched = ts_train_images[np.where(train_labels[:] == 9)]\n",
        "        \n",
        "t_train0 = t_train_images[np.where(train_labels[:] == 0)]\n",
        "t_train1 = t_train_images[np.where(train_labels[:] == 1)]\n",
        "t_train2 = t_train_images[np.where(train_labels[:] == 2)]\n",
        "t_train3 = t_train_images[np.where(train_labels[:] == 3)]\n",
        "t_train4 = t_train_images[np.where(train_labels[:] == 4)]\n",
        "t_train5 = t_train_images[np.where(train_labels[:] == 5)]\n",
        "t_train6 = t_train_images[np.where(train_labels[:] == 6)]\n",
        "t_train7 = t_train_images[np.where(train_labels[:] == 7)]\n",
        "t_train8 = t_train_images[np.where(train_labels[:] == 8)]\n",
        "t_train9 = t_train_images[np.where(train_labels[:] == 9)]\n",
        "\n",
        "pb_0 = (np.sum(t_train0, axis =0)/t_train0.shape[0])\n",
        "pb_1 = (np.sum(t_train1, axis =0)/t_train1.shape[0])\n",
        "pb_2 = (np.sum(t_train2, axis =0)/t_train2.shape[0])\n",
        "pb_3 = (np.sum(t_train3, axis =0)/t_train3.shape[0])\n",
        "pb_4 = (np.sum(t_train4, axis =0)/t_train4.shape[0])\n",
        "pb_5 = (np.sum(t_train5, axis =0)/t_train5.shape[0])\n",
        "pb_6 = (np.sum(t_train6, axis =0)/t_train6.shape[0])\n",
        "pb_7 = (np.sum(t_train7, axis =0)/t_train7.shape[0])\n",
        "pb_8 = (np.sum(t_train8, axis =0)/t_train8.shape[0])\n",
        "pb_9 = (np.sum(t_train9, axis =0)/t_train9.shape[0])  \n",
        "\n",
        "pbs_0 = (np.sum(t_train0_stretched, axis =0)/t_train0_stretched.shape[0])\n",
        "pbs_1 = (np.sum(t_train1_stretched, axis =0)/t_train1_stretched.shape[0])\n",
        "pbs_2 = (np.sum(t_train2_stretched, axis =0)/t_train2_stretched.shape[0])\n",
        "pbs_3 = (np.sum(t_train3_stretched, axis =0)/t_train3_stretched.shape[0])\n",
        "pbs_4 = (np.sum(t_train4_stretched, axis =0)/t_train4_stretched.shape[0])\n",
        "pbs_5 = (np.sum(t_train5_stretched, axis =0)/t_train5_stretched.shape[0])\n",
        "pbs_6 = (np.sum(t_train6_stretched, axis =0)/t_train6_stretched.shape[0])\n",
        "pbs_7 = (np.sum(t_train7_stretched, axis =0)/t_train7_stretched.shape[0])\n",
        "pbs_8 = (np.sum(t_train8_stretched, axis =0)/t_train8_stretched.shape[0])\n",
        "pbs_9 = (np.sum(t_train9_stretched, axis =0)/t_train9_stretched.shape[0]) \n",
        "\n",
        "accuracy = 0\n",
        "for i in range(0,no_of_samples):\n",
        "  x = t_train_images[i,:]\n",
        "  prob0 =P_0+sum(np.log(np.multiply(x, pb_0)+np.multiply(1-x, 1-pb_0)))\n",
        "  prob1 =P_1+sum(np.log(np.multiply(x, pb_1)+np.multiply(1-x, 1-pb_1)))\n",
        "  prob2 =P_2+sum(np.log(np.multiply(x, pb_2)+np.multiply(1-x, 1-pb_2)))\n",
        "  prob3 =P_3+sum(np.log(np.multiply(x, pb_3)+np.multiply(1-x, 1-pb_3)))\n",
        "  prob4 =P_4+sum(np.log(np.multiply(x, pb_4)+np.multiply(1-x, 1-pb_4)))\n",
        "  prob5 =P_5+sum(np.log(np.multiply(x, pb_5)+np.multiply(1-x, 1-pb_5)))\n",
        "  prob6 =P_6+sum(np.log(np.multiply(x, pb_6)+np.multiply(1-x, 1-pb_6)))\n",
        "  prob7 =P_7+sum(np.log(np.multiply(x, pb_7)+np.multiply(1-x, 1-pb_7)))\n",
        "  prob8 =P_8+sum(np.log(np.multiply(x, pb_8)+np.multiply(1-x, 1-pb_8)))\n",
        "  prob9 =P_9+sum(np.log(np.multiply(x, pb_9)+np.multiply(1-x, 1-pb_9)))\n",
        "  res = getHighestProbability([prob0, prob1, prob2, prob3, prob4, prob5, prob6, prob7, prob8, prob9])\n",
        "\n",
        "  if(res == train_labels[i]):\n",
        "    accuracy += 1\n",
        "\n",
        "bernoulli_accuracy_train = accuracy/no_of_samples\n",
        "print('Accuracy for the Train data with untouched images (Bernaulii):', bernoulli_accuracy_train)\n",
        "\n",
        "accuracy = 0\n",
        "for i in range(0,no_of_tests):\n",
        "  x = t_test_images[i,:]\n",
        "  prob0 =P_0+sum(np.log(np.multiply(x, pb_0)+np.multiply(1-x, 1-pb_0)))\n",
        "  prob1 =P_1+sum(np.log(np.multiply(x, pb_1)+np.multiply(1-x, 1-pb_1)))\n",
        "  prob2 =P_2+sum(np.log(np.multiply(x, pb_2)+np.multiply(1-x, 1-pb_2)))\n",
        "  prob3 =P_3+sum(np.log(np.multiply(x, pb_3)+np.multiply(1-x, 1-pb_3)))\n",
        "  prob4 =P_4+sum(np.log(np.multiply(x, pb_4)+np.multiply(1-x, 1-pb_4)))\n",
        "  prob5 =P_5+sum(np.log(np.multiply(x, pb_5)+np.multiply(1-x, 1-pb_5)))\n",
        "  prob6 =P_6+sum(np.log(np.multiply(x, pb_6)+np.multiply(1-x, 1-pb_6)))\n",
        "  prob7 =P_7+sum(np.log(np.multiply(x, pb_7)+np.multiply(1-x, 1-pb_7)))\n",
        "  prob8 =P_8+sum(np.log(np.multiply(x, pb_8)+np.multiply(1-x, 1-pb_8)))\n",
        "  prob9 =P_9+sum(np.log(np.multiply(x, pb_9)+np.multiply(1-x, 1-pb_9)))  \n",
        "  res = getHighestProbability([prob0, prob1, prob2, prob3, prob4, prob5, prob6, prob7, prob8, prob9])\n",
        "\n",
        "  if(res == test_labels[i]):\n",
        "    accuracy += 1\n",
        "\n",
        "bernoulli_accuracy_test = accuracy/no_of_tests\n",
        "print('Accuracy for the Test data with untouched images (Bernaulli):',bernoulli_accuracy_test)"
      ],
      "execution_count": null,
      "outputs": [
        {
          "output_type": "stream",
          "text": [
            "/usr/local/lib/python3.6/dist-packages/ipykernel_launcher.py:69: RuntimeWarning: divide by zero encountered in log\n",
            "/usr/local/lib/python3.6/dist-packages/ipykernel_launcher.py:71: RuntimeWarning: divide by zero encountered in log\n",
            "/usr/local/lib/python3.6/dist-packages/ipykernel_launcher.py:72: RuntimeWarning: divide by zero encountered in log\n",
            "/usr/local/lib/python3.6/dist-packages/ipykernel_launcher.py:66: RuntimeWarning: divide by zero encountered in log\n",
            "/usr/local/lib/python3.6/dist-packages/ipykernel_launcher.py:70: RuntimeWarning: divide by zero encountered in log\n",
            "/usr/local/lib/python3.6/dist-packages/ipykernel_launcher.py:65: RuntimeWarning: divide by zero encountered in log\n",
            "/usr/local/lib/python3.6/dist-packages/ipykernel_launcher.py:67: RuntimeWarning: divide by zero encountered in log\n",
            "/usr/local/lib/python3.6/dist-packages/ipykernel_launcher.py:74: RuntimeWarning: divide by zero encountered in log\n",
            "/usr/local/lib/python3.6/dist-packages/ipykernel_launcher.py:68: RuntimeWarning: divide by zero encountered in log\n",
            "/usr/local/lib/python3.6/dist-packages/ipykernel_launcher.py:73: RuntimeWarning: divide by zero encountered in log\n"
          ],
          "name": "stderr"
        },
        {
          "output_type": "stream",
          "text": [
            "Accuracy for the Train data with untouched images (Bernaulii): 0.8331\n"
          ],
          "name": "stdout"
        },
        {
          "output_type": "stream",
          "text": [
            "/usr/local/lib/python3.6/dist-packages/ipykernel_launcher.py:86: RuntimeWarning: divide by zero encountered in log\n",
            "/usr/local/lib/python3.6/dist-packages/ipykernel_launcher.py:87: RuntimeWarning: divide by zero encountered in log\n",
            "/usr/local/lib/python3.6/dist-packages/ipykernel_launcher.py:88: RuntimeWarning: divide by zero encountered in log\n",
            "/usr/local/lib/python3.6/dist-packages/ipykernel_launcher.py:92: RuntimeWarning: divide by zero encountered in log\n",
            "/usr/local/lib/python3.6/dist-packages/ipykernel_launcher.py:89: RuntimeWarning: divide by zero encountered in log\n",
            "/usr/local/lib/python3.6/dist-packages/ipykernel_launcher.py:90: RuntimeWarning: divide by zero encountered in log\n",
            "/usr/local/lib/python3.6/dist-packages/ipykernel_launcher.py:93: RuntimeWarning: divide by zero encountered in log\n",
            "/usr/local/lib/python3.6/dist-packages/ipykernel_launcher.py:94: RuntimeWarning: divide by zero encountered in log\n",
            "/usr/local/lib/python3.6/dist-packages/ipykernel_launcher.py:95: RuntimeWarning: divide by zero encountered in log\n",
            "/usr/local/lib/python3.6/dist-packages/ipykernel_launcher.py:91: RuntimeWarning: divide by zero encountered in log\n"
          ],
          "name": "stderr"
        },
        {
          "output_type": "stream",
          "text": [
            "Accuracy for the Test data with untouched images (Bernaulli): 0.841\n"
          ],
          "name": "stdout"
        }
      ]
    },
    {
      "metadata": {
        "id": "hJFYlRZcOGe_"
      },
      "cell_type": "markdown",
      "source": [
        "#### Accuracy for stretched images"
      ]
    },
    {
      "metadata": {
        "id": "wWIVEqo-OKif",
        "outputId": "b6f11b84-2274-4c3b-a550-eaf1f9d7df3c",
        "colab": {
          "base_uri": "https://localhost:8080/",
          "height": 51
        }
      },
      "cell_type": "code",
      "source": [
        "accuracy = 0\n",
        "for i in range(0,no_of_samples):\n",
        "  x = ts_train_images[i,:]\n",
        "  prob0 =P_1+sum(np.log(np.multiply(x, pbs_0)+np.multiply(1-x, 1-pbs_0)))\n",
        "  prob1 =P_1+sum(np.log(np.multiply(x, pbs_1)+np.multiply(1-x, 1-pbs_1)))\n",
        "  prob2 =P_2+sum(np.log(np.multiply(x, pbs_2)+np.multiply(1-x, 1-pbs_2)))\n",
        "  prob3 =P_3+sum(np.log(np.multiply(x, pbs_3)+np.multiply(1-x, 1-pbs_3)))\n",
        "  prob4 =P_4+sum(np.log(np.multiply(x, pbs_4)+np.multiply(1-x, 1-pbs_4)))\n",
        "  prob5 =P_5+sum(np.log(np.multiply(x, pbs_5)+np.multiply(1-x, 1-pbs_5)))\n",
        "  prob6 =P_6+sum(np.log(np.multiply(x, pbs_6)+np.multiply(1-x, 1-pbs_6)))\n",
        "  prob7 =P_7+sum(np.log(np.multiply(x, pbs_7)+np.multiply(1-x, 1-pbs_7)))\n",
        "  prob8 =P_8+sum(np.log(np.multiply(x, pbs_8)+np.multiply(1-x, 1-pbs_8)))\n",
        "  prob9 =P_9+sum(np.log(np.multiply(x, pbs_9)+np.multiply(1-x, 1-pbs_9)))\n",
        "  res = getHighestProbability([prob0, prob1, prob2, prob3, prob4, prob5, prob6, prob7, prob8, prob9])\n",
        "\n",
        "  if(res == train_labels[i]):\n",
        "    accuracy += 1\n",
        "\n",
        "bernoulli_accuracy_stretched_train = accuracy/no_of_samples\n",
        "print('Accuracy for the Train data with stretched images (Bernaulli):',bernoulli_accuracy_stretched_train)\n",
        "\n",
        "accuracy = 0\n",
        "for i in range(0,no_of_tests):\n",
        "  x = ts_test_images[i,:]\n",
        "  prob0 =P_1+sum(np.log(np.multiply(x, pbs_0)+np.multiply(1-x, 1-pbs_0)))\n",
        "  prob1 =P_1+sum(np.log(np.multiply(x, pbs_1)+np.multiply(1-x, 1-pbs_1)))\n",
        "  prob2 =P_2+sum(np.log(np.multiply(x, pbs_2)+np.multiply(1-x, 1-pbs_2)))\n",
        "  prob3 =P_3+sum(np.log(np.multiply(x, pbs_3)+np.multiply(1-x, 1-pbs_3)))\n",
        "  prob4 =P_4+sum(np.log(np.multiply(x, pbs_4)+np.multiply(1-x, 1-pbs_4)))\n",
        "  prob5 =P_5+sum(np.log(np.multiply(x, pbs_5)+np.multiply(1-x, 1-pbs_5)))\n",
        "  prob6 =P_6+sum(np.log(np.multiply(x, pbs_6)+np.multiply(1-x, 1-pbs_6)))\n",
        "  prob7 =P_7+sum(np.log(np.multiply(x, pbs_7)+np.multiply(1-x, 1-pbs_7)))\n",
        "  prob8 =P_8+sum(np.log(np.multiply(x, pbs_8)+np.multiply(1-x, 1-pbs_8)))\n",
        "  prob9 =P_9+sum(np.log(np.multiply(x, pbs_9)+np.multiply(1-x, 1-pbs_9)))\n",
        "  res = getHighestProbability([prob0, prob1, prob2, prob3, prob4, prob5, prob6, prob7, prob8, prob9])\n",
        "\n",
        "  if(res == test_labels[i]):\n",
        "    accuracy += 1\n",
        "bernoulli_accuracy_stretched_test = accuracy/no_of_tests\n",
        "print('Accuracy for the Test data with stretched images (Bernaulli):',bernoulli_accuracy_stretched_test)\n"
      ],
      "execution_count": null,
      "outputs": [
        {
          "output_type": "stream",
          "text": [
            "Accuracy for the Train data with stretched images (Bernaulli): 0.7844666666666666\n",
            "Accuracy for the Test data with stretched images (Bernaulli): 0.8037\n"
          ],
          "name": "stdout"
        }
      ]
    },
    {
      "metadata": {
        "id": "rqQKgKwFHYcU"
      },
      "cell_type": "markdown",
      "source": [
        "## Part 2B: MNIST using Decision Forest"
      ]
    },
    {
      "metadata": {
        "id": "DQFzMgugE2TB"
      },
      "cell_type": "markdown",
      "source": [
        "### Decision forest with depth 4"
      ]
    },
    {
      "metadata": {
        "id": "okzOfDttE6XC"
      },
      "cell_type": "markdown",
      "source": [
        "#### Untouched images with 10 trees"
      ]
    },
    {
      "metadata": {
        "id": "opXybCLWE-7h",
        "outputId": "0441b20b-7790-4224-e78b-50c31b288c02",
        "colab": {
          "base_uri": "https://localhost:8080/",
          "height": 51
        }
      },
      "cell_type": "code",
      "source": [
        "from sklearn.ensemble.forest import RandomForestClassifier\n",
        "\n",
        "clf=RandomForestClassifier(n_estimators=10, max_depth=4)\n",
        "clf.fit(t_train_images, train_labels)\n",
        "\n",
        "p=clf.predict(t_test_images)\n",
        "\n",
        "count=0\n",
        "for i in range(0,len(test_labels)):\n",
        "  count+=1 if p[i]==test_labels[i] else 0\n",
        "\n",
        "accuracy_depth4_10trees_untouched = count/len(test_labels)\n",
        "print(\"Accuracy Untouched images with 10 trees with depth 4: \", accuracy_depth4_10trees_untouched)\n",
        "\n",
        "p=clf.predict(t_train_images)\n",
        "\n",
        "count=0\n",
        "for i in range(0,len(train_labels)):\n",
        "  count+=1 if p[i]==train_labels[i] else 0\n",
        "\n",
        "accuracy_depth4_10trees_untouched_train = count/len(train_labels)\n",
        "print(\"Accuracy Untouched images with 10 trees with depth 4 with train data: \", accuracy_depth4_10trees_untouched_train)"
      ],
      "execution_count": null,
      "outputs": [
        {
          "output_type": "stream",
          "text": [
            "Accuracy Untouched images with 10 trees with depth 4:  0.7574\n",
            "Accuracy Untouched images with 10 trees with depth 4 with train data:  0.7442\n"
          ],
          "name": "stdout"
        }
      ]
    },
    {
      "metadata": {
        "id": "RvsYa489FCx8"
      },
      "cell_type": "markdown",
      "source": [
        "#### Untouched images with 30 trees"
      ]
    },
    {
      "metadata": {
        "id": "a099gny4FGjr",
        "outputId": "1a255a02-58d4-4c34-8825-9750e893bcfe",
        "colab": {
          "base_uri": "https://localhost:8080/",
          "height": 51
        }
      },
      "cell_type": "code",
      "source": [
        "clf=RandomForestClassifier(n_estimators=30, max_depth=4)\n",
        "clf.fit(t_train_images, train_labels)\n",
        "\n",
        "p=clf.predict(t_test_images)\n",
        "\n",
        "count=0\n",
        "for i in range(0,len(test_labels)):\n",
        "  count+=1 if p[i]==test_labels[i] else 0\n",
        "\n",
        "accuracy_depth4_30trees_untouched = count/len(test_labels)\n",
        "print(\"Accuracy Untouched images with 30 trees with depth 4: \", accuracy_depth4_30trees_untouched)\n",
        "\n",
        "p=clf.predict(t_train_images)\n",
        "\n",
        "count=0\n",
        "for i in range(0,len(train_labels)):\n",
        "  count+=1 if p[i]==train_labels[i] else 0\n",
        "\n",
        "accuracy_depth4_30trees_untouched_train = count/len(train_labels)\n",
        "print(\"Accuracy Untouched images with 30 trees with depth 4 with train data: \", accuracy_depth4_30trees_untouched_train)"
      ],
      "execution_count": null,
      "outputs": [
        {
          "output_type": "stream",
          "text": [
            "Accuracy Untouched images with 30 trees with depth 4:  0.809\n",
            "Accuracy Untouched images with 30 trees with depth 4 with train data:  0.8036\n"
          ],
          "name": "stdout"
        }
      ]
    },
    {
      "metadata": {
        "id": "_LGNYyrbFI6n"
      },
      "cell_type": "markdown",
      "source": [
        "#### Stretched images with 10 trees"
      ]
    },
    {
      "metadata": {
        "id": "U9uF4qCDFMUe",
        "outputId": "0977ead9-368f-4a5f-8111-2c3a3b7c8614",
        "colab": {
          "base_uri": "https://localhost:8080/",
          "height": 51
        }
      },
      "cell_type": "code",
      "source": [
        "clf=RandomForestClassifier(n_estimators=10, max_depth=4)\n",
        "clf.fit(ts_train_images, train_labels)\n",
        "\n",
        "p=clf.predict(ts_test_images)\n",
        "\n",
        "count=0\n",
        "for i in range(0,len(test_labels)):\n",
        "  count+=1 if p[i]==test_labels[i] else 0\n",
        "\n",
        "accuracy_depth4_10trees_stretched = count/len(test_labels)\n",
        "print(\"Accuracy Untouched images with 30 trees with depth 4: \", accuracy_depth4_10trees_stretched)\n",
        "\n",
        "p=clf.predict(ts_train_images)\n",
        "\n",
        "count=0\n",
        "for i in range(0,len(train_labels)):\n",
        "  count+=1 if p[i]==train_labels[i] else 0\n",
        "\n",
        "accuracy_depth4_10trees_stretched_train = count/len(train_labels)\n",
        "print(\"Accuracy Untouched images with 30 trees with depth 4 with train data: \", accuracy_depth4_10trees_stretched_train)"
      ],
      "execution_count": null,
      "outputs": [
        {
          "output_type": "stream",
          "text": [
            "Accuracy Untouched images with 30 trees with depth 4:  0.7482\n",
            "Accuracy Untouched images with 30 trees with depth 4 with train data:  0.7414666666666667\n"
          ],
          "name": "stdout"
        }
      ]
    },
    {
      "metadata": {
        "id": "XAqkkFKlFOOh"
      },
      "cell_type": "markdown",
      "source": [
        "#### Stretched images with 30 trees"
      ]
    },
    {
      "metadata": {
        "id": "i0ePFhXdFRAu",
        "outputId": "c262d0d2-71aa-426a-b81a-159811a32a77",
        "colab": {
          "base_uri": "https://localhost:8080/",
          "height": 51
        }
      },
      "cell_type": "code",
      "source": [
        "clf=RandomForestClassifier(n_estimators=30, max_depth=4)\n",
        "clf.fit(ts_train_images, train_labels)\n",
        "\n",
        "p=clf.predict(ts_test_images)\n",
        "\n",
        "count=0\n",
        "for i in range(0,len(test_labels)):\n",
        "  count+=1 if p[i]==test_labels[i] else 0\n",
        "\n",
        "accuracy_depth4_30trees_stretched = count/len(test_labels)\n",
        "print(\"Accuracy Untouched images with 30 trees with depth 4: \", accuracy_depth4_30trees_stretched)\n",
        "\n",
        "p=clf.predict(ts_train_images)\n",
        "\n",
        "count=0\n",
        "for i in range(0,len(train_labels)):\n",
        "  count+=1 if p[i]==train_labels[i] else 0\n",
        "\n",
        "accuracy_depth4_30trees_stretched_train = count/len(train_labels)\n",
        "print(\"Accuracy Untouched images with 30 trees with depth 4 with train data: \", accuracy_depth4_30trees_stretched_train)"
      ],
      "execution_count": null,
      "outputs": [
        {
          "output_type": "stream",
          "text": [
            "Accuracy Untouched images with 30 trees with depth 4:  0.8018\n",
            "Accuracy Untouched images with 30 trees with depth 4 with train data:  0.7891166666666667\n"
          ],
          "name": "stdout"
        }
      ]
    },
    {
      "metadata": {
        "id": "7KoveJ0RFSuQ"
      },
      "cell_type": "markdown",
      "source": [
        "### Decision Tree with depth 16"
      ]
    },
    {
      "metadata": {
        "id": "F9CaizDgFVl-"
      },
      "cell_type": "markdown",
      "source": [
        "#### Untouched images with 10 trees"
      ]
    },
    {
      "metadata": {
        "id": "L8cJMxlxFZQn",
        "outputId": "cee61496-55b3-4026-d097-ac94edd162e2",
        "colab": {
          "base_uri": "https://localhost:8080/",
          "height": 51
        }
      },
      "cell_type": "code",
      "source": [
        "clf=RandomForestClassifier(n_estimators=10, max_depth=16)\n",
        "clf.fit(t_train_images, train_labels)\n",
        "\n",
        "p=clf.predict(t_test_images)\n",
        "\n",
        "count=0\n",
        "for i in range(0,len(test_labels)):\n",
        "  count+=1 if p[i]==test_labels[i] else 0\n",
        "\n",
        "accuracy_depth16_10trees_untouched = count/len(test_labels)\n",
        "print(\"Accuracy Untouched images with 30 trees with depth 16: \", accuracy_depth16_10trees_untouched)\n",
        "\n",
        "p=clf.predict(t_train_images)\n",
        "\n",
        "count=0\n",
        "for i in range(0,len(train_labels)):\n",
        "  count+=1 if p[i]==train_labels[i] else 0\n",
        "\n",
        "accuracy_depth16_10trees_untouched_train = count/len(train_labels)\n",
        "print(\"Accuracy Untouched images with 30 trees with depth 16 with train data: \", accuracy_depth16_10trees_untouched_train)"
      ],
      "execution_count": null,
      "outputs": [
        {
          "output_type": "stream",
          "text": [
            "Accuracy Untouched images with 30 trees with depth 16:  0.9495\n",
            "Accuracy Untouched images with 30 trees with depth 16 with train data:  0.9927\n"
          ],
          "name": "stdout"
        }
      ]
    },
    {
      "metadata": {
        "id": "9EWThE9zFcaK"
      },
      "cell_type": "markdown",
      "source": [
        "#### Untouched images with 30 trees"
      ]
    },
    {
      "metadata": {
        "id": "5gS3A90wFfju",
        "outputId": "63b8ea06-0298-439a-9b12-b844a98a3174",
        "colab": {
          "base_uri": "https://localhost:8080/",
          "height": 51
        }
      },
      "cell_type": "code",
      "source": [
        "clf=RandomForestClassifier(n_estimators=30, max_depth=16)\n",
        "clf.fit(t_train_images, train_labels)\n",
        "\n",
        "p=clf.predict(t_test_images)\n",
        "\n",
        "count=0\n",
        "for i in range(0,len(test_labels)):\n",
        "  count+=1 if p[i]==test_labels[i] else 0\n",
        "\n",
        "accuracy_depth16_30trees_untouched = count/len(test_labels)\n",
        "print(\"Accuracy Untouched images with 30 trees with depth 16: \", accuracy_depth16_30trees_untouched)\n",
        "\n",
        "p=clf.predict(t_train_images)\n",
        "\n",
        "count=0\n",
        "for i in range(0,len(train_labels)):\n",
        "  count+=1 if p[i]==train_labels[i] else 0\n",
        "\n",
        "accuracy_depth16_30trees_untouched_train = count/len(train_labels)\n",
        "print(\"Accuracy Untouched images with 30 trees with depth 16 with train data: \", accuracy_depth16_30trees_untouched_train)"
      ],
      "execution_count": null,
      "outputs": [
        {
          "output_type": "stream",
          "text": [
            "Accuracy Untouched images with 30 trees with depth 16:  0.9627\n",
            "Accuracy Untouched images with 30 trees with depth 16 with train data:  0.9957\n"
          ],
          "name": "stdout"
        }
      ]
    },
    {
      "metadata": {
        "id": "lqLE_SWoFh-c"
      },
      "cell_type": "markdown",
      "source": [
        "#### Stretched images with 10 trees"
      ]
    },
    {
      "metadata": {
        "id": "MGVeuKc3FlEC",
        "outputId": "a639243d-84f9-44e0-b37c-c377505b16ca",
        "colab": {
          "base_uri": "https://localhost:8080/",
          "height": 51
        }
      },
      "cell_type": "code",
      "source": [
        "clf=RandomForestClassifier(n_estimators=10, max_depth=16)\n",
        "clf.fit(ts_train_images, train_labels)\n",
        "p=clf.predict(ts_test_images)\n",
        "\n",
        "count=0\n",
        "for i in range(0,len(test_labels)):\n",
        "  count+=1 if p[i]==test_labels[i] else 0\n",
        "\n",
        "accuracy_depth16_10trees_stretched = count/len(test_labels)\n",
        "print(\"Accuracy Untouched images with 30 trees with depth 16: \", accuracy_depth16_10trees_stretched)\n",
        "\n",
        "p=clf.predict(ts_train_images)\n",
        "\n",
        "count=0\n",
        "for i in range(0,len(train_labels)):\n",
        "  count+=1 if p[i]==train_labels[i] else 0\n",
        "\n",
        "accuracy_depth16_10trees_stretched_train = count/len(train_labels)\n",
        "print(\"Accuracy Untouched images with 30 trees with depth 16 for train data: \", accuracy_depth16_10trees_stretched_train)"
      ],
      "execution_count": null,
      "outputs": [
        {
          "output_type": "stream",
          "text": [
            "Accuracy Untouched images with 30 trees with depth 16:  0.9661\n",
            "Accuracy Untouched images with 30 trees with depth 16 for train data:  0.9988166666666667\n"
          ],
          "name": "stdout"
        }
      ]
    },
    {
      "metadata": {
        "id": "9b2zK4yoFmq7"
      },
      "cell_type": "markdown",
      "source": [
        "#### Stretched images with 30 trees"
      ]
    },
    {
      "metadata": {
        "id": "KTjK-8MdFpnx",
        "outputId": "267a82a8-2aad-4214-a342-44be1235ee3f",
        "colab": {
          "base_uri": "https://localhost:8080/",
          "height": 51
        }
      },
      "cell_type": "code",
      "source": [
        "clf=RandomForestClassifier(n_estimators=30, max_depth=16)\n",
        "clf.fit(ts_train_images, train_labels)\n",
        "\n",
        "p=clf.predict(ts_test_images)\n",
        "\n",
        "count=0\n",
        "for i in range(0,len(test_labels)):\n",
        "  count+=1 if p[i]==test_labels[i] else 0\n",
        "\n",
        "accuracy_depth16_30trees_stretched = count/len(test_labels)\n",
        "print(\"Accuracy Untouched images with 30 trees with depth 16: \", accuracy_depth16_30trees_stretched)\n",
        "\n",
        "p=clf.predict(ts_train_images)\n",
        "count=0\n",
        "for i in range(0,len(train_labels)):\n",
        "  count+=1 if p[i]==train_labels[i] else 0\n",
        "\n",
        "accuracy_depth16_30trees_stretched_train = count/len(train_labels)\n",
        "print(\"Accuracy Untouched images with 30 trees with depth 16 for train data: \", accuracy_depth16_30trees_stretched_train)\n"
      ],
      "execution_count": null,
      "outputs": [
        {
          "output_type": "stream",
          "text": [
            "Accuracy Untouched images with 30 trees with depth 16:  0.9659\n",
            "Accuracy Untouched images with 30 trees with depth 16 for train data:  0.9987166666666667\n"
          ],
          "name": "stdout"
        }
      ]
    },
    {
      "metadata": {
        "id": "AxQFZSJQJrGm"
      },
      "cell_type": "markdown",
      "source": [
        "## Comparisons"
      ]
    },
    {
      "metadata": {
        "id": "3hkUCjDKPOyy"
      },
      "cell_type": "markdown",
      "source": [
        "### Part 1 Accuracies"
      ]
    },
    {
      "metadata": {
        "id": "fXn_cPGNPS9G",
        "outputId": "f640e141-efa7-4dc3-d943-301a65265fa1",
        "colab": {
          "base_uri": "https://localhost:8080/",
          "height": 85
        }
      },
      "cell_type": "code",
      "source": [
        "from tabulate import tabulate\n",
        "print(tabulate([['Unprocessed data', accuracy1A], \n",
        "                ['0-value elements ignored', accuracy1B]], \n",
        "               headers=['Setup', 'Cross-validation Accuracy'], \n",
        "               tablefmt='orgtbl'))"
      ],
      "execution_count": null,
      "outputs": [
        {
          "output_type": "stream",
          "text": [
            "| Setup                    |   Cross-validation Accuracy |\n",
            "|--------------------------+-----------------------------|\n",
            "| Unprocessed data         |                    0.755556 |\n",
            "| 0-value elements ignored |                    0.768627 |\n"
          ],
          "name": "stdout"
        }
      ]
    },
    {
      "metadata": {
        "id": "8wdf_ncePKLd"
      },
      "cell_type": "markdown",
      "source": [
        "### Part 2 MNIST Accuracies"
      ]
    },
    {
      "metadata": {
        "id": "YuK6D_lAJwib",
        "outputId": "5270c6ef-19b4-40f5-8948-cca5e3aeb0d7",
        "colab": {
          "base_uri": "https://localhost:8080/",
          "height": 255
        }
      },
      "cell_type": "code",
      "source": [
        "print(tabulate([['Gaussian + untouched', accuracy_train_untouched, accuracy_test_untouched], \n",
        "                ['Gaussian + stretched', accuracy_train_stretched, accuracy_test_stretched], \n",
        "                ['Bernoulli + untouched', bernoulli_accuracy_train, bernoulli_accuracy_test], \n",
        "                ['Bernoulli + stretched', bernoulli_accuracy_stretched_train, bernoulli_accuracy_stretched_test], \n",
        "                ['10 trees + 4 depth + untouched', accuracy_depth4_10trees_untouched_train, accuracy_depth4_10trees_untouched], \n",
        "                ['10 trees + 4 depth + stretched', accuracy_depth4_10trees_stretched_train, accuracy_depth4_10trees_stretched], \n",
        "                ['10 trees + 16 depth + untouched', accuracy_depth16_10trees_untouched_train, accuracy_depth16_10trees_untouched], \n",
        "                ['10 trees + 16 depth + stretched', accuracy_depth16_10trees_stretched_train, accuracy_depth16_10trees_stretched], \n",
        "                ['30 trees + 4 depth + untouched', accuracy_depth4_30trees_untouched_train, accuracy_depth4_30trees_untouched], \n",
        "                ['30 trees + 4 depth + stretched', accuracy_depth4_30trees_stretched_train, accuracy_depth4_30trees_stretched], \n",
        "                ['30 trees + 16 depth + untouched', accuracy_depth16_30trees_untouched_train, accuracy_depth16_30trees_untouched], \n",
        "                ['30 trees + 16 depth + stretched', accuracy_depth16_30trees_stretched_train, accuracy_depth16_30trees_stretched]], \n",
        "               headers=['Method', 'Training Set Accuracy', 'Test Set Accuracy'], \n",
        "               tablefmt='orgtbl'))"
      ],
      "execution_count": null,
      "outputs": [
        {
          "output_type": "stream",
          "text": [
            "| Method                          |   Training Set Accuracy |   Test Set Accuracy |\n",
            "|---------------------------------+-------------------------+---------------------|\n",
            "| Gaussian + untouched            |                0.6498   |              0.6483 |\n",
            "| Gaussian + stretched            |                0.81265  |              0.8263 |\n",
            "| Bernoulli + untouched           |                0.8331   |              0.841  |\n",
            "| Bernoulli + stretched           |                0.784467 |              0.8037 |\n",
            "| 10 trees + 4 depth + untouched  |                0.7442   |              0.7574 |\n",
            "| 10 trees + 4 depth + stretched  |                0.741467 |              0.7482 |\n",
            "| 10 trees + 16 depth + untouched |                0.9927   |              0.9495 |\n",
            "| 10 trees + 16 depth + stretched |                0.998817 |              0.9661 |\n",
            "| 30 trees + 4 depth + untouched  |                0.8036   |              0.809  |\n",
            "| 30 trees + 4 depth + stretched  |                0.789117 |              0.8018 |\n",
            "| 30 trees + 16 depth + untouched |                0.9957   |              0.9627 |\n",
            "| 30 trees + 16 depth + stretched |                0.998717 |              0.9659 |\n"
          ],
          "name": "stdout"
        }
      ]
    }
  ]
}